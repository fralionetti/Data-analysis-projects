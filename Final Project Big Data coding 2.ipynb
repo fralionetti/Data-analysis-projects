{
 "cells": [
  {
   "cell_type": "markdown",
   "id": "e8889453",
   "metadata": {},
   "source": [
    "# First steps"
   ]
  },
  {
   "cell_type": "markdown",
   "id": "18116943",
   "metadata": {},
   "source": [
    "I first import all of the necessary packages, load the labeled data and merge it into one dataframe, clean the dataframe (for example, looking if there are missing values) and I check that everything is correct. I also merge together the column 'Title' and 'Text', so that the model has more data to be trained on. Finally, I delete the unnecessary columns."
   ]
  },
  {
   "cell_type": "code",
   "execution_count": 1,
   "id": "f4c86a95",
   "metadata": {},
   "outputs": [
    {
     "name": "stderr",
     "output_type": "stream",
     "text": [
      "[nltk_data] Downloading package stopwords to\n",
      "[nltk_data]     C:\\Users\\franc\\AppData\\Roaming\\nltk_data...\n",
      "[nltk_data]   Package stopwords is already up-to-date!\n",
      "[nltk_data] Downloading package punkt to\n",
      "[nltk_data]     C:\\Users\\franc\\AppData\\Roaming\\nltk_data...\n",
      "[nltk_data]   Package punkt is already up-to-date!\n"
     ]
    }
   ],
   "source": [
    "import pandas as pd\n",
    "import numpy as np\n",
    "import nltk\n",
    "import re\n",
    "import regex\n",
    "from sklearn.model_selection import train_test_split\n",
    "from sklearn.feature_extraction.text import CountVectorizer\n",
    "from sklearn.feature_extraction.text import TfidfVectorizer\n",
    "from sklearn.naive_bayes import MultinomialNB\n",
    "from sklearn.ensemble import RandomForestClassifier\n",
    "from sklearn.svm import SVC\n",
    "from sklearn import metrics\n",
    "from sklearn.metrics import classification_report\n",
    "from sklearn.metrics import classification_report\n",
    "from sklearn.linear_model import LogisticRegression\n",
    "from sklearn.model_selection import cross_val_score\n",
    "from sklearn.metrics import classification_report\n",
    "from nltk.tokenize import word_tokenize\n",
    "from nltk.corpus import stopwords\n",
    "from nltk.tokenize import RegexpTokenizer\n",
    "nltk.download(\"stopwords\")\n",
    "nltk.download(\"punkt\")\n",
    "import gensim\n",
    "from gensim.models import KeyedVectors\n",
    "word_vectors = KeyedVectors.load(\"W2V.kv\", mmap='r+')\n",
    "vocabs = word_vectors.index_to_key\n",
    "vectors = word_vectors.vectors\n",
    "from embeddingvectorizer import EmbeddingCountVectorizer, EmbeddingTfidfVectorizer\n",
    "import embeddingvectorizer\n",
    "from sklearn.pipeline import make_pipeline, Pipeline\n",
    "from sklearn.pipeline import Pipeline\n",
    "from sklearn.svm import SVC\n",
    "from sklearn.model_selection import GridSearchCV\n",
    "import seaborn as sns\n",
    "import matplotlib.pyplot as plt\n",
    "import scipy.stats as stats\n",
    "from scipy.stats import chi2_contingency\n",
    "from tabulate import tabulate"
   ]
  },
  {
   "cell_type": "code",
   "execution_count": 2,
   "id": "d901845a",
   "metadata": {},
   "outputs": [
    {
     "data": {
      "text/html": [
       "<div>\n",
       "<style scoped>\n",
       "    .dataframe tbody tr th:only-of-type {\n",
       "        vertical-align: middle;\n",
       "    }\n",
       "\n",
       "    .dataframe tbody tr th {\n",
       "        vertical-align: top;\n",
       "    }\n",
       "\n",
       "    .dataframe thead th {\n",
       "        text-align: right;\n",
       "    }\n",
       "</style>\n",
       "<table border=\"1\" class=\"dataframe\">\n",
       "  <thead>\n",
       "    <tr style=\"text-align: right;\">\n",
       "      <th></th>\n",
       "      <th>Link</th>\n",
       "      <th>Title</th>\n",
       "      <th>Text</th>\n",
       "      <th>News outlet</th>\n",
       "      <th>Frame</th>\n",
       "    </tr>\n",
       "  </thead>\n",
       "  <tbody>\n",
       "    <tr>\n",
       "      <th>0</th>\n",
       "      <td>https://www.ilfattoquotidiano.it/2022/10/01/el...</td>\n",
       "      <td>Elezioni, Anpi: âIl nuovo governo onori il g...</td>\n",
       "      <td>Il documento: \"Esito elettorale apre una fase ...</td>\n",
       "      <td>Il Fatto Quotidiano</td>\n",
       "      <td>0</td>\n",
       "    </tr>\n",
       "    <tr>\n",
       "      <th>1</th>\n",
       "      <td>https://www.ilfattoquotidiano.it/2022/09/30/ro...</td>\n",
       "      <td>Rosy Bindi a La7: âPd si metta a disposizion...</td>\n",
       "      <td>âSe il  Pd  non si mette a disposizione per ...</td>\n",
       "      <td>Il Fatto Quotidiano</td>\n",
       "      <td>0</td>\n",
       "    </tr>\n",
       "    <tr>\n",
       "      <th>2</th>\n",
       "      <td>https://www.ilfattoquotidiano.it/2022/09/30/ef...</td>\n",
       "      <td>Effetto flipper, come funziona il meccanismo d...</td>\n",
       "      <td>Il sistema scatta quando i conti non tornano, ...</td>\n",
       "      <td>Il Fatto Quotidiano</td>\n",
       "      <td>5</td>\n",
       "    </tr>\n",
       "    <tr>\n",
       "      <th>3</th>\n",
       "      <td>https://www.ilfattoquotidiano.it/2022/09/29/ca...</td>\n",
       "      <td>Cacciari a La7: âSe Pd e M5s ora non trovano...</td>\n",
       "      <td>âTra  Pd e 5 Stelle  o câÃ¨ ora una qualch...</td>\n",
       "      <td>Il Fatto Quotidiano</td>\n",
       "      <td>0</td>\n",
       "    </tr>\n",
       "    <tr>\n",
       "      <th>4</th>\n",
       "      <td>https://www.ilfattoquotidiano.it/2022/09/29/de...</td>\n",
       "      <td>De Masi a La7: âPd dice di essere di sinistr...</td>\n",
       "      <td>âIl  M5s  avrebbe preso piÃ¹ voti se ci foss...</td>\n",
       "      <td>Il Fatto Quotidiano</td>\n",
       "      <td>0</td>\n",
       "    </tr>\n",
       "    <tr>\n",
       "      <th>...</th>\n",
       "      <td>...</td>\n",
       "      <td>...</td>\n",
       "      <td>...</td>\n",
       "      <td>...</td>\n",
       "      <td>...</td>\n",
       "    </tr>\n",
       "    <tr>\n",
       "      <th>445</th>\n",
       "      <td>https://video.repubblica.it/dossier/elezioni-2...</td>\n",
       "      <td>Di Maio: \"Berlusconi-Meloni-Salvini 'trio sfas...</td>\n",
       "      <td>NaN</td>\n",
       "      <td>La Repubblica</td>\n",
       "      <td>0</td>\n",
       "    </tr>\n",
       "    <tr>\n",
       "      <th>446</th>\n",
       "      <td>https://video.repubblica.it/dossier/elezioni-2...</td>\n",
       "      <td>Pontida, anticomuniste cubane scambiate per co...</td>\n",
       "      <td>NaN</td>\n",
       "      <td>La Repubblica</td>\n",
       "      <td>0</td>\n",
       "    </tr>\n",
       "    <tr>\n",
       "      <th>447</th>\n",
       "      <td>https://video.repubblica.it/edizione/bologna/b...</td>\n",
       "      <td>Bologna, insulti e minacce ai militanti di Fra...</td>\n",
       "      <td>\"Carogne, mafiosi, traditori. Quale piazza pre...</td>\n",
       "      <td>La Repubblica</td>\n",
       "      <td>0</td>\n",
       "    </tr>\n",
       "    <tr>\n",
       "      <th>448</th>\n",
       "      <td>https://video.repubblica.it/dossier/elezioni-2...</td>\n",
       "      <td>Salvini e Meloni tra baci e coltelli: il nuovo...</td>\n",
       "      <td>C'Ã¨ chi propone di aprire un congresso dopo l...</td>\n",
       "      <td>La Repubblica</td>\n",
       "      <td>0</td>\n",
       "    </tr>\n",
       "    <tr>\n",
       "      <th>449</th>\n",
       "      <td>https://video.repubblica.it/dossier/elezioni-2...</td>\n",
       "      <td>A Monza Letta sfida la Lega con 500 sindaci: \"...</td>\n",
       "      <td>A 35 km dalla festa di Pontida, il Partito Dem...</td>\n",
       "      <td>La Repubblica</td>\n",
       "      <td>0</td>\n",
       "    </tr>\n",
       "  </tbody>\n",
       "</table>\n",
       "<p>450 rows × 5 columns</p>\n",
       "</div>"
      ],
      "text/plain": [
       "                                                  Link  \\\n",
       "0    https://www.ilfattoquotidiano.it/2022/10/01/el...   \n",
       "1    https://www.ilfattoquotidiano.it/2022/09/30/ro...   \n",
       "2    https://www.ilfattoquotidiano.it/2022/09/30/ef...   \n",
       "3    https://www.ilfattoquotidiano.it/2022/09/29/ca...   \n",
       "4    https://www.ilfattoquotidiano.it/2022/09/29/de...   \n",
       "..                                                 ...   \n",
       "445  https://video.repubblica.it/dossier/elezioni-2...   \n",
       "446  https://video.repubblica.it/dossier/elezioni-2...   \n",
       "447  https://video.repubblica.it/edizione/bologna/b...   \n",
       "448  https://video.repubblica.it/dossier/elezioni-2...   \n",
       "449  https://video.repubblica.it/dossier/elezioni-2...   \n",
       "\n",
       "                                                 Title  \\\n",
       "0    Elezioni, Anpi: âIl nuovo governo onori il g...   \n",
       "1    Rosy Bindi a La7: âPd si metta a disposizion...   \n",
       "2    Effetto flipper, come funziona il meccanismo d...   \n",
       "3    Cacciari a La7: âSe Pd e M5s ora non trovano...   \n",
       "4    De Masi a La7: âPd dice di essere di sinistr...   \n",
       "..                                                 ...   \n",
       "445  Di Maio: \"Berlusconi-Meloni-Salvini 'trio sfas...   \n",
       "446  Pontida, anticomuniste cubane scambiate per co...   \n",
       "447  Bologna, insulti e minacce ai militanti di Fra...   \n",
       "448  Salvini e Meloni tra baci e coltelli: il nuovo...   \n",
       "449  A Monza Letta sfida la Lega con 500 sindaci: \"...   \n",
       "\n",
       "                                                  Text          News outlet  \\\n",
       "0    Il documento: \"Esito elettorale apre una fase ...  Il Fatto Quotidiano   \n",
       "1    âSe il  Pd  non si mette a disposizione per ...  Il Fatto Quotidiano   \n",
       "2    Il sistema scatta quando i conti non tornano, ...  Il Fatto Quotidiano   \n",
       "3    âTra  Pd e 5 Stelle  o câÃ¨ ora una qualch...  Il Fatto Quotidiano   \n",
       "4    âIl  M5s  avrebbe preso piÃ¹ voti se ci foss...  Il Fatto Quotidiano   \n",
       "..                                                 ...                  ...   \n",
       "445                                                NaN        La Repubblica   \n",
       "446                                                NaN        La Repubblica   \n",
       "447  \"Carogne, mafiosi, traditori. Quale piazza pre...        La Repubblica   \n",
       "448  C'Ã¨ chi propone di aprire un congresso dopo l...        La Repubblica   \n",
       "449  A 35 km dalla festa di Pontida, il Partito Dem...        La Repubblica   \n",
       "\n",
       "     Frame  \n",
       "0        0  \n",
       "1        0  \n",
       "2        5  \n",
       "3        0  \n",
       "4        0  \n",
       "..     ...  \n",
       "445      0  \n",
       "446      0  \n",
       "447      0  \n",
       "448      0  \n",
       "449      0  \n",
       "\n",
       "[450 rows x 5 columns]"
      ]
     },
     "execution_count": 2,
     "metadata": {},
     "output_type": "execute_result"
    }
   ],
   "source": [
    "data = pd.read_csv(\"articlesFattoQuotidiano_labeledissue4.csv\", encoding = 'latin1')\n",
    "data1 = pd.read_csv(\"articlesPost_labeledissue4.csv\", encoding = 'latin1')\n",
    "data2 = pd.read_csv(\"articlesOpen_labeledissue4.csv\", encoding = 'latin1')\n",
    "data3 = pd.read_csv(\"articlesHuff_labeledissue4.csv\", encoding = 'latin1')\n",
    "data4 = pd.read_csv(\"articlesRepubblica_labeledissue4.csv\", encoding = 'latin1')\n",
    "finaldata = data.merge(data1, how = 'outer')\n",
    "finaldata2 = finaldata.merge(data2, how = 'outer')\n",
    "finaldata3 = finaldata2.merge(data3, how = 'outer')\n",
    "labeled_articles= finaldata3.merge(data4, how = 'outer')\n",
    "labeled_articles"
   ]
  },
  {
   "cell_type": "code",
   "execution_count": 3,
   "id": "db517537",
   "metadata": {},
   "outputs": [
    {
     "name": "stdout",
     "output_type": "stream",
     "text": [
      "Empty DataFrame\n",
      "Columns: [Link, Title, Text, News outlet, Frame]\n",
      "Index: []\n"
     ]
    }
   ],
   "source": [
    "duplicates = labeled_articles.duplicated()\n",
    "print(labeled_articles[duplicates])"
   ]
  },
  {
   "cell_type": "code",
   "execution_count": 4,
   "id": "4cbb76d0",
   "metadata": {},
   "outputs": [
    {
     "data": {
      "text/plain": [
       "153"
      ]
     },
     "execution_count": 4,
     "metadata": {},
     "output_type": "execute_result"
    }
   ],
   "source": [
    "labeled_articles.isnull().sum().sum()"
   ]
  },
  {
   "cell_type": "code",
   "execution_count": 5,
   "id": "8e91db16",
   "metadata": {},
   "outputs": [],
   "source": [
    "labeled_articles = labeled_articles.dropna()"
   ]
  },
  {
   "cell_type": "code",
   "execution_count": 6,
   "id": "108f62ed",
   "metadata": {},
   "outputs": [
    {
     "data": {
      "text/plain": [
       "0"
      ]
     },
     "execution_count": 6,
     "metadata": {},
     "output_type": "execute_result"
    }
   ],
   "source": [
    "labeled_articles.isnull().sum().sum()"
   ]
  },
  {
   "cell_type": "code",
   "execution_count": 7,
   "id": "7f08865b",
   "metadata": {},
   "outputs": [
    {
     "name": "stderr",
     "output_type": "stream",
     "text": [
      "C:\\Users\\franc\\AppData\\Local\\Temp\\ipykernel_21192\\3495950442.py:1: SettingWithCopyWarning: \n",
      "A value is trying to be set on a copy of a slice from a DataFrame.\n",
      "Try using .loc[row_indexer,col_indexer] = value instead\n",
      "\n",
      "See the caveats in the documentation: https://pandas.pydata.org/pandas-docs/stable/user_guide/indexing.html#returning-a-view-versus-a-copy\n",
      "  labeled_articles['Full_text'] = labeled_articles['Title'] + ' ' + labeled_articles['Text']\n"
     ]
    }
   ],
   "source": [
    "labeled_articles['Full_text'] = labeled_articles['Title'] + ' ' + labeled_articles['Text']\n",
    "labeled_articles = labeled_articles.drop(columns=[\"Title\", \"Text\", \"Link\"]).copy()"
   ]
  },
  {
   "cell_type": "code",
   "execution_count": 8,
   "id": "e2efab96",
   "metadata": {},
   "outputs": [
    {
     "data": {
      "text/plain": [
       "0"
      ]
     },
     "execution_count": 8,
     "metadata": {},
     "output_type": "execute_result"
    }
   ],
   "source": [
    "labeled_articles.Full_text.str.contains(r\"https?://[\\w\\.]+\\b|www\\.[\\w\\.]+\\b\").sum()"
   ]
  },
  {
   "cell_type": "code",
   "execution_count": 9,
   "id": "b5a4b771",
   "metadata": {},
   "outputs": [
    {
     "data": {
      "text/plain": [
       "0"
      ]
     },
     "execution_count": 9,
     "metadata": {},
     "output_type": "execute_result"
    }
   ],
   "source": [
    "labeled_articles.Full_text.str.contains(r\"</?\\w[^>]*>\").sum()"
   ]
  },
  {
   "cell_type": "code",
   "execution_count": 10,
   "id": "e92353bf",
   "metadata": {},
   "outputs": [
    {
     "data": {
      "text/plain": [
       "1"
      ]
     },
     "execution_count": 10,
     "metadata": {},
     "output_type": "execute_result"
    }
   ],
   "source": [
    "labeled_articles.Full_text.str.contains(r\"&[^;]+;\").sum()"
   ]
  },
  {
   "cell_type": "code",
   "execution_count": 11,
   "id": "3c9de7d6",
   "metadata": {},
   "outputs": [
    {
     "data": {
      "text/html": [
       "<div>\n",
       "<style scoped>\n",
       "    .dataframe tbody tr th:only-of-type {\n",
       "        vertical-align: middle;\n",
       "    }\n",
       "\n",
       "    .dataframe tbody tr th {\n",
       "        vertical-align: top;\n",
       "    }\n",
       "\n",
       "    .dataframe thead th {\n",
       "        text-align: right;\n",
       "    }\n",
       "</style>\n",
       "<table border=\"1\" class=\"dataframe\">\n",
       "  <thead>\n",
       "    <tr style=\"text-align: right;\">\n",
       "      <th></th>\n",
       "      <th>News outlet</th>\n",
       "      <th>Frame</th>\n",
       "      <th>Full_text</th>\n",
       "    </tr>\n",
       "  </thead>\n",
       "  <tbody>\n",
       "    <tr>\n",
       "      <th>0</th>\n",
       "      <td>Il Fatto Quotidiano</td>\n",
       "      <td>0</td>\n",
       "      <td>Elezioni, Anpi: âIl nuovo governo onori il g...</td>\n",
       "    </tr>\n",
       "    <tr>\n",
       "      <th>1</th>\n",
       "      <td>Il Fatto Quotidiano</td>\n",
       "      <td>0</td>\n",
       "      <td>Rosy Bindi a La7: âPd si metta a disposizion...</td>\n",
       "    </tr>\n",
       "    <tr>\n",
       "      <th>2</th>\n",
       "      <td>Il Fatto Quotidiano</td>\n",
       "      <td>5</td>\n",
       "      <td>Effetto flipper, come funziona il meccanismo d...</td>\n",
       "    </tr>\n",
       "    <tr>\n",
       "      <th>3</th>\n",
       "      <td>Il Fatto Quotidiano</td>\n",
       "      <td>0</td>\n",
       "      <td>Cacciari a La7: âSe Pd e M5s ora non trovano...</td>\n",
       "    </tr>\n",
       "    <tr>\n",
       "      <th>4</th>\n",
       "      <td>Il Fatto Quotidiano</td>\n",
       "      <td>0</td>\n",
       "      <td>De Masi a La7: âPd dice di essere di sinistr...</td>\n",
       "    </tr>\n",
       "    <tr>\n",
       "      <th>...</th>\n",
       "      <td>...</td>\n",
       "      <td>...</td>\n",
       "      <td>...</td>\n",
       "    </tr>\n",
       "    <tr>\n",
       "      <th>443</th>\n",
       "      <td>La Repubblica</td>\n",
       "      <td>0</td>\n",
       "      <td>Conte finisce a una sfilata a Milano e lo stuz...</td>\n",
       "    </tr>\n",
       "    <tr>\n",
       "      <th>444</th>\n",
       "      <td>La Repubblica</td>\n",
       "      <td>0</td>\n",
       "      <td>Conte canta 'Bella Ciao': \"Ã il simbolo della...</td>\n",
       "    </tr>\n",
       "    <tr>\n",
       "      <th>447</th>\n",
       "      <td>La Repubblica</td>\n",
       "      <td>0</td>\n",
       "      <td>Bologna, insulti e minacce ai militanti di Fra...</td>\n",
       "    </tr>\n",
       "    <tr>\n",
       "      <th>448</th>\n",
       "      <td>La Repubblica</td>\n",
       "      <td>0</td>\n",
       "      <td>Salvini e Meloni tra baci e coltelli: il nuovo...</td>\n",
       "    </tr>\n",
       "    <tr>\n",
       "      <th>449</th>\n",
       "      <td>La Repubblica</td>\n",
       "      <td>0</td>\n",
       "      <td>A Monza Letta sfida la Lega con 500 sindaci: \"...</td>\n",
       "    </tr>\n",
       "  </tbody>\n",
       "</table>\n",
       "<p>297 rows × 3 columns</p>\n",
       "</div>"
      ],
      "text/plain": [
       "             News outlet  Frame  \\\n",
       "0    Il Fatto Quotidiano      0   \n",
       "1    Il Fatto Quotidiano      0   \n",
       "2    Il Fatto Quotidiano      5   \n",
       "3    Il Fatto Quotidiano      0   \n",
       "4    Il Fatto Quotidiano      0   \n",
       "..                   ...    ...   \n",
       "443        La Repubblica      0   \n",
       "444        La Repubblica      0   \n",
       "447        La Repubblica      0   \n",
       "448        La Repubblica      0   \n",
       "449        La Repubblica      0   \n",
       "\n",
       "                                             Full_text  \n",
       "0    Elezioni, Anpi: âIl nuovo governo onori il g...  \n",
       "1    Rosy Bindi a La7: âPd si metta a disposizion...  \n",
       "2    Effetto flipper, come funziona il meccanismo d...  \n",
       "3    Cacciari a La7: âSe Pd e M5s ora non trovano...  \n",
       "4    De Masi a La7: âPd dice di essere di sinistr...  \n",
       "..                                                 ...  \n",
       "443  Conte finisce a una sfilata a Milano e lo stuz...  \n",
       "444  Conte canta 'Bella Ciao': \"Ã il simbolo della...  \n",
       "447  Bologna, insulti e minacce ai militanti di Fra...  \n",
       "448  Salvini e Meloni tra baci e coltelli: il nuovo...  \n",
       "449  A Monza Letta sfida la Lega con 500 sindaci: \"...  \n",
       "\n",
       "[297 rows x 3 columns]"
      ]
     },
     "execution_count": 11,
     "metadata": {},
     "output_type": "execute_result"
    }
   ],
   "source": [
    "labeled_articles.to_csv(\"labeled_articlesNEW.csv\", index=False)\n",
    "labeled_articles"
   ]
  },
  {
   "cell_type": "code",
   "execution_count": 12,
   "id": "469980f5",
   "metadata": {},
   "outputs": [
    {
     "name": "stdout",
     "output_type": "stream",
     "text": [
      "0    212\n",
      "5     85\n",
      "Name: Frame, dtype: int64\n"
     ]
    }
   ],
   "source": [
    "value_counts = labeled_articles['Frame'].value_counts()\n",
    "\n",
    "print(value_counts)"
   ]
  },
  {
   "cell_type": "markdown",
   "id": "15d0d55b",
   "metadata": {},
   "source": [
    "# Creating the tokenizer and splitting the datset"
   ]
  },
  {
   "cell_type": "markdown",
   "id": "1750be13",
   "metadata": {},
   "source": [
    "I create my tokenizer and choose Italian as a language as the texts are in Italian. I print two sentences to see how it performs. It performs quite well: punctuation is removed, articles and words are identified well. Then, I divide the data into two subsets: a train a and a test subset. Finally, I test how the main clasfiers of supervised machine learning perform in predicting the labels of the texts together with the most two known vectorizers: CountVectorizer and TfidfVectorizer. I look at the accuracy scores as well as at the classification report to have a more accurate voerview of how the model perform for each category of the dependent variables. This is particularly important considering the limited amount of data avilable. "
   ]
  },
  {
   "cell_type": "code",
   "execution_count": 13,
   "id": "2520decd",
   "metadata": {},
   "outputs": [
    {
     "name": "stdout",
     "output_type": "stream",
     "text": [
      "['Amaro', 'lucano', 'La', 'Regina', 'cade', 'sul', 'post', 'antisionista', 'si', 'riapre', 'lo', 'scontro', 'nel', 'Pd']\n",
      "['Berlusconi', 'uccide', 'una', 'mosca', 'in', 'diretta', 'tv', 'Vedete', 'sono', 'ancora', 'in', 'gamba']\n"
     ]
    }
   ],
   "source": [
    "class MyTokenizer:\n",
    "    def tokenize(self, text):\n",
    "        result = []\n",
    "        word =  r\"\\p{letter}\"\n",
    "        tokens = nltk.word_tokenize(text, language = \"Italian\")\n",
    "        tokens = [t for t in tokens if regex.search(word, t)]\n",
    "        result += tokens\n",
    "        return result\n",
    "    \n",
    "mytokenizer = MyTokenizer()\n",
    "sentence = \"Amaro lucano. La Regina cade sul post antisionista, si riapre lo scontro nel Pd\"\n",
    "sentence2 = \"Berlusconi uccide una mosca in diretta tv: Vedete, sono ancora in gamba\"\n",
    "print(mytokenizer.tokenize(sentence))\n",
    "print(mytokenizer.tokenize(sentence2))"
   ]
  },
  {
   "cell_type": "code",
   "execution_count": 14,
   "id": "86ae3c47",
   "metadata": {},
   "outputs": [
    {
     "name": "stdout",
     "output_type": "stream",
     "text": [
      "(237,) (237,)\n",
      "(60,) (60,)\n"
     ]
    }
   ],
   "source": [
    "X_train, X_test, y_train, y_test = train_test_split(labeled_articles[\"Full_text\"], labeled_articles[\"Frame\"], test_size=0.2, random_state=5)\n",
    "print(X_train.shape, y_train.shape)\n",
    "print(X_test.shape, y_test.shape)"
   ]
  },
  {
   "cell_type": "code",
   "execution_count": 15,
   "id": "d2d65c23",
   "metadata": {},
   "outputs": [
    {
     "name": "stderr",
     "output_type": "stream",
     "text": [
      "C:\\Users\\franc\\OneDrive\\Documents\\uVa Master\\phyton\\Lib\\site-packages\\sklearn\\feature_extraction\\text.py:528: UserWarning: The parameter 'token_pattern' will not be used since 'tokenizer' is not None'\n",
      "  warnings.warn(\n"
     ]
    },
    {
     "name": "stdout",
     "output_type": "stream",
     "text": [
      "NB-count\n",
      "0.8\n",
      "              precision    recall  f1-score   support\n",
      "\n",
      "           0       0.76      1.00      0.87        39\n",
      "           5       1.00      0.43      0.60        21\n",
      "\n",
      "    accuracy                           0.80        60\n",
      "   macro avg       0.88      0.71      0.73        60\n",
      "weighted avg       0.85      0.80      0.77        60\n",
      "\n",
      "\n",
      "\n",
      "NB-TfIdf\n"
     ]
    },
    {
     "name": "stderr",
     "output_type": "stream",
     "text": [
      "C:\\Users\\franc\\OneDrive\\Documents\\uVa Master\\phyton\\Lib\\site-packages\\sklearn\\feature_extraction\\text.py:528: UserWarning: The parameter 'token_pattern' will not be used since 'tokenizer' is not None'\n",
      "  warnings.warn(\n"
     ]
    },
    {
     "name": "stdout",
     "output_type": "stream",
     "text": [
      "0.65\n",
      "              precision    recall  f1-score   support\n",
      "\n",
      "           0       0.65      1.00      0.79        39\n",
      "           5       0.00      0.00      0.00        21\n",
      "\n",
      "    accuracy                           0.65        60\n",
      "   macro avg       0.33      0.50      0.39        60\n",
      "weighted avg       0.42      0.65      0.51        60\n",
      "\n",
      "\n",
      "\n",
      "LR-Count\n"
     ]
    },
    {
     "name": "stderr",
     "output_type": "stream",
     "text": [
      "C:\\Users\\franc\\OneDrive\\Documents\\uVa Master\\phyton\\Lib\\site-packages\\sklearn\\metrics\\_classification.py:1344: UndefinedMetricWarning: Precision and F-score are ill-defined and being set to 0.0 in labels with no predicted samples. Use `zero_division` parameter to control this behavior.\n",
      "  _warn_prf(average, modifier, msg_start, len(result))\n",
      "C:\\Users\\franc\\OneDrive\\Documents\\uVa Master\\phyton\\Lib\\site-packages\\sklearn\\metrics\\_classification.py:1344: UndefinedMetricWarning: Precision and F-score are ill-defined and being set to 0.0 in labels with no predicted samples. Use `zero_division` parameter to control this behavior.\n",
      "  _warn_prf(average, modifier, msg_start, len(result))\n",
      "C:\\Users\\franc\\OneDrive\\Documents\\uVa Master\\phyton\\Lib\\site-packages\\sklearn\\metrics\\_classification.py:1344: UndefinedMetricWarning: Precision and F-score are ill-defined and being set to 0.0 in labels with no predicted samples. Use `zero_division` parameter to control this behavior.\n",
      "  _warn_prf(average, modifier, msg_start, len(result))\n",
      "C:\\Users\\franc\\OneDrive\\Documents\\uVa Master\\phyton\\Lib\\site-packages\\sklearn\\feature_extraction\\text.py:528: UserWarning: The parameter 'token_pattern' will not be used since 'tokenizer' is not None'\n",
      "  warnings.warn(\n"
     ]
    },
    {
     "name": "stdout",
     "output_type": "stream",
     "text": [
      "0.7166666666666667\n",
      "              precision    recall  f1-score   support\n",
      "\n",
      "           0       0.70      0.97      0.82        39\n",
      "           5       0.83      0.24      0.37        21\n",
      "\n",
      "    accuracy                           0.72        60\n",
      "   macro avg       0.77      0.61      0.59        60\n",
      "weighted avg       0.75      0.72      0.66        60\n",
      "\n",
      "\n",
      "\n",
      "LR-TfIdf\n"
     ]
    },
    {
     "name": "stderr",
     "output_type": "stream",
     "text": [
      "C:\\Users\\franc\\OneDrive\\Documents\\uVa Master\\phyton\\Lib\\site-packages\\sklearn\\feature_extraction\\text.py:528: UserWarning: The parameter 'token_pattern' will not be used since 'tokenizer' is not None'\n",
      "  warnings.warn(\n"
     ]
    },
    {
     "name": "stdout",
     "output_type": "stream",
     "text": [
      "0.65\n",
      "              precision    recall  f1-score   support\n",
      "\n",
      "           0       0.65      1.00      0.79        39\n",
      "           5       0.00      0.00      0.00        21\n",
      "\n",
      "    accuracy                           0.65        60\n",
      "   macro avg       0.33      0.50      0.39        60\n",
      "weighted avg       0.42      0.65      0.51        60\n",
      "\n",
      "\n",
      "\n",
      "SVC-count\n"
     ]
    },
    {
     "name": "stderr",
     "output_type": "stream",
     "text": [
      "C:\\Users\\franc\\OneDrive\\Documents\\uVa Master\\phyton\\Lib\\site-packages\\sklearn\\metrics\\_classification.py:1344: UndefinedMetricWarning: Precision and F-score are ill-defined and being set to 0.0 in labels with no predicted samples. Use `zero_division` parameter to control this behavior.\n",
      "  _warn_prf(average, modifier, msg_start, len(result))\n",
      "C:\\Users\\franc\\OneDrive\\Documents\\uVa Master\\phyton\\Lib\\site-packages\\sklearn\\metrics\\_classification.py:1344: UndefinedMetricWarning: Precision and F-score are ill-defined and being set to 0.0 in labels with no predicted samples. Use `zero_division` parameter to control this behavior.\n",
      "  _warn_prf(average, modifier, msg_start, len(result))\n",
      "C:\\Users\\franc\\OneDrive\\Documents\\uVa Master\\phyton\\Lib\\site-packages\\sklearn\\metrics\\_classification.py:1344: UndefinedMetricWarning: Precision and F-score are ill-defined and being set to 0.0 in labels with no predicted samples. Use `zero_division` parameter to control this behavior.\n",
      "  _warn_prf(average, modifier, msg_start, len(result))\n",
      "C:\\Users\\franc\\OneDrive\\Documents\\uVa Master\\phyton\\Lib\\site-packages\\sklearn\\feature_extraction\\text.py:528: UserWarning: The parameter 'token_pattern' will not be used since 'tokenizer' is not None'\n",
      "  warnings.warn(\n"
     ]
    },
    {
     "name": "stdout",
     "output_type": "stream",
     "text": [
      "0.65\n",
      "              precision    recall  f1-score   support\n",
      "\n",
      "           0       0.65      1.00      0.79        39\n",
      "           5       0.00      0.00      0.00        21\n",
      "\n",
      "    accuracy                           0.65        60\n",
      "   macro avg       0.33      0.50      0.39        60\n",
      "weighted avg       0.42      0.65      0.51        60\n",
      "\n",
      "\n",
      "\n",
      "SVC-TfIdf\n"
     ]
    },
    {
     "name": "stderr",
     "output_type": "stream",
     "text": [
      "C:\\Users\\franc\\OneDrive\\Documents\\uVa Master\\phyton\\Lib\\site-packages\\sklearn\\metrics\\_classification.py:1344: UndefinedMetricWarning: Precision and F-score are ill-defined and being set to 0.0 in labels with no predicted samples. Use `zero_division` parameter to control this behavior.\n",
      "  _warn_prf(average, modifier, msg_start, len(result))\n",
      "C:\\Users\\franc\\OneDrive\\Documents\\uVa Master\\phyton\\Lib\\site-packages\\sklearn\\metrics\\_classification.py:1344: UndefinedMetricWarning: Precision and F-score are ill-defined and being set to 0.0 in labels with no predicted samples. Use `zero_division` parameter to control this behavior.\n",
      "  _warn_prf(average, modifier, msg_start, len(result))\n",
      "C:\\Users\\franc\\OneDrive\\Documents\\uVa Master\\phyton\\Lib\\site-packages\\sklearn\\metrics\\_classification.py:1344: UndefinedMetricWarning: Precision and F-score are ill-defined and being set to 0.0 in labels with no predicted samples. Use `zero_division` parameter to control this behavior.\n",
      "  _warn_prf(average, modifier, msg_start, len(result))\n",
      "C:\\Users\\franc\\OneDrive\\Documents\\uVa Master\\phyton\\Lib\\site-packages\\sklearn\\feature_extraction\\text.py:528: UserWarning: The parameter 'token_pattern' will not be used since 'tokenizer' is not None'\n",
      "  warnings.warn(\n"
     ]
    },
    {
     "name": "stdout",
     "output_type": "stream",
     "text": [
      "0.65\n",
      "              precision    recall  f1-score   support\n",
      "\n",
      "           0       0.65      1.00      0.79        39\n",
      "           5       0.00      0.00      0.00        21\n",
      "\n",
      "    accuracy                           0.65        60\n",
      "   macro avg       0.33      0.50      0.39        60\n",
      "weighted avg       0.42      0.65      0.51        60\n",
      "\n",
      "\n",
      "\n",
      "RF-Count\n"
     ]
    },
    {
     "name": "stderr",
     "output_type": "stream",
     "text": [
      "C:\\Users\\franc\\OneDrive\\Documents\\uVa Master\\phyton\\Lib\\site-packages\\sklearn\\metrics\\_classification.py:1344: UndefinedMetricWarning: Precision and F-score are ill-defined and being set to 0.0 in labels with no predicted samples. Use `zero_division` parameter to control this behavior.\n",
      "  _warn_prf(average, modifier, msg_start, len(result))\n",
      "C:\\Users\\franc\\OneDrive\\Documents\\uVa Master\\phyton\\Lib\\site-packages\\sklearn\\metrics\\_classification.py:1344: UndefinedMetricWarning: Precision and F-score are ill-defined and being set to 0.0 in labels with no predicted samples. Use `zero_division` parameter to control this behavior.\n",
      "  _warn_prf(average, modifier, msg_start, len(result))\n",
      "C:\\Users\\franc\\OneDrive\\Documents\\uVa Master\\phyton\\Lib\\site-packages\\sklearn\\metrics\\_classification.py:1344: UndefinedMetricWarning: Precision and F-score are ill-defined and being set to 0.0 in labels with no predicted samples. Use `zero_division` parameter to control this behavior.\n",
      "  _warn_prf(average, modifier, msg_start, len(result))\n",
      "C:\\Users\\franc\\OneDrive\\Documents\\uVa Master\\phyton\\Lib\\site-packages\\sklearn\\feature_extraction\\text.py:528: UserWarning: The parameter 'token_pattern' will not be used since 'tokenizer' is not None'\n",
      "  warnings.warn(\n"
     ]
    },
    {
     "name": "stdout",
     "output_type": "stream",
     "text": [
      "0.7\n",
      "              precision    recall  f1-score   support\n",
      "\n",
      "           0       0.69      0.97      0.81        39\n",
      "           5       0.80      0.19      0.31        21\n",
      "\n",
      "    accuracy                           0.70        60\n",
      "   macro avg       0.75      0.58      0.56        60\n",
      "weighted avg       0.73      0.70      0.63        60\n",
      "\n",
      "\n",
      "\n",
      "RF-TfIdf\n"
     ]
    },
    {
     "name": "stderr",
     "output_type": "stream",
     "text": [
      "C:\\Users\\franc\\OneDrive\\Documents\\uVa Master\\phyton\\Lib\\site-packages\\sklearn\\feature_extraction\\text.py:528: UserWarning: The parameter 'token_pattern' will not be used since 'tokenizer' is not None'\n",
      "  warnings.warn(\n"
     ]
    },
    {
     "name": "stdout",
     "output_type": "stream",
     "text": [
      "0.6833333333333333\n",
      "              precision    recall  f1-score   support\n",
      "\n",
      "           0       0.67      1.00      0.80        39\n",
      "           5       1.00      0.10      0.17        21\n",
      "\n",
      "    accuracy                           0.68        60\n",
      "   macro avg       0.84      0.55      0.49        60\n",
      "weighted avg       0.79      0.68      0.58        60\n",
      "\n",
      "\n",
      "\n"
     ]
    }
   ],
   "source": [
    "models = [\n",
    "    (\"NB-count\", CountVectorizer(tokenizer=mytokenizer.tokenize, min_df=5, max_df=.5), MultinomialNB()),\n",
    "    (\"NB-TfIdf\", TfidfVectorizer(tokenizer=mytokenizer.tokenize, min_df=5, max_df=.5), MultinomialNB()),\n",
    "    (\n",
    "        \"LR-Count\", CountVectorizer(tokenizer=mytokenizer.tokenize, min_df=5, max_df=.5),\n",
    "        LogisticRegression(solver=\"liblinear\"),\n",
    "    ),\n",
    "    (\n",
    "        \"LR-TfIdf\", TfidfVectorizer(tokenizer=mytokenizer.tokenize, min_df=5, max_df=.5),\n",
    "        LogisticRegression(solver=\"liblinear\"),\n",
    "    ),\n",
    "    (\n",
    "        \"SVC-count\", CountVectorizer(tokenizer=mytokenizer.tokenize, min_df=5, max_df=.5),\n",
    "        SVC(gamma=\"scale\"),\n",
    "    ),\n",
    "    (   \"SVC-TfIdf\", TfidfVectorizer(tokenizer=mytokenizer.tokenize, min_df=5, max_df=.5),\n",
    "        SVC(gamma=\"scale\"),\n",
    "    ),\n",
    "    (\n",
    "        \"RF-Count\", CountVectorizer(tokenizer=mytokenizer.tokenize, min_df=5, max_df=.5),\n",
    "        RandomForestClassifier(n_estimators=100),\n",
    "    ),\n",
    "    (   \"RF-TfIdf\", TfidfVectorizer(tokenizer=mytokenizer.tokenize, min_df=5, max_df=.5),\n",
    "        RandomForestClassifier(n_estimators=100),\n",
    "    ),\n",
    "]\n",
    "\n",
    "for name, vectorizer, classifier in models:\n",
    "    print(name)\n",
    "    X_train2 = vectorizer.fit_transform(X_train)\n",
    "    X_test2 = vectorizer.transform(X_test)\n",
    "    classifier.fit(X_train2, y_train)\n",
    "    y_pred = classifier.predict(X_test2)\n",
    "    print(metrics.accuracy_score(y_test, y_pred))\n",
    "    print(metrics.classification_report(y_test, y_pred))\n",
    "    print(\"\\n\")"
   ]
  },
  {
   "cell_type": "markdown",
   "id": "e3e5b783",
   "metadata": {},
   "source": [
    "I see that overall the models perform well, but this is mainly because they perform very well on the first category, rather than on the issue framing. Therefore, I need to improve the accruacy scores as well as the precision and recall scores of the model. To do so, I use word embeddings."
   ]
  },
  {
   "cell_type": "markdown",
   "id": "90f8f598",
   "metadata": {},
   "source": [
    "# Testing the models with word embeddings"
   ]
  },
  {
   "cell_type": "markdown",
   "id": "ec880a59",
   "metadata": {},
   "source": [
    "I use a non-BOW approach to achieve better accuracy scores. I decided to use word embeddings because I think that they are quite useful in analysing Italian texts and news healdlines dealing with politics. Word embeddings are a powerful tool for natural language processing, as they allow you to represent words in a high-dimensional space, where words with similar meanings are located close to each other. This moves beyong the BOW approaches that takes into account simply the frequency of words. With word embeddings the classifier can be trained to find synonyms and analogies. Hence, this can help improve the accuracy of machine learning models by providing them with more informative features. I especially think that they are useful to analyse Italian, as it is a language rich of synonyms, analogies and comparisons. First, I create a dataframe with the words and their asisgned values and then I create a dict which I will then use to test various combinations of vectorizers and classifiers with word embeddings. I try the two most common vectorizers (Count and Tfidf) and the main models that we studied so far. Even though the Naive Bayes classifer worked quite well with a Count vectorizer, I cannot train it with word embeddings as it cannot handle negative numbers. First, I check that the word embeddings work well. Moreover, I include random forests and not decision trees as, overall, the former perform better than the latter ones. I retrieved the word embeddings from this website: https://mlunicampania.gitlab.io/italian-word2vec/. Again, I look at both the accuracy scores and the classification reports to have a better overview of hoe the models perform and especially to see if they perform better in detecting the issue frame than before. "
   ]
  },
  {
   "cell_type": "code",
   "execution_count": 16,
   "id": "f7035291",
   "metadata": {},
   "outputs": [
    {
     "data": {
      "text/html": [
       "<div>\n",
       "<style scoped>\n",
       "    .dataframe tbody tr th:only-of-type {\n",
       "        vertical-align: middle;\n",
       "    }\n",
       "\n",
       "    .dataframe tbody tr th {\n",
       "        vertical-align: top;\n",
       "    }\n",
       "\n",
       "    .dataframe thead th {\n",
       "        text-align: right;\n",
       "    }\n",
       "</style>\n",
       "<table border=\"1\" class=\"dataframe\">\n",
       "  <thead>\n",
       "    <tr style=\"text-align: right;\">\n",
       "      <th></th>\n",
       "      <th>0</th>\n",
       "      <th>1</th>\n",
       "      <th>2</th>\n",
       "      <th>3</th>\n",
       "      <th>4</th>\n",
       "      <th>5</th>\n",
       "      <th>6</th>\n",
       "      <th>7</th>\n",
       "      <th>8</th>\n",
       "      <th>9</th>\n",
       "      <th>...</th>\n",
       "      <th>290</th>\n",
       "      <th>291</th>\n",
       "      <th>292</th>\n",
       "      <th>293</th>\n",
       "      <th>294</th>\n",
       "      <th>295</th>\n",
       "      <th>296</th>\n",
       "      <th>297</th>\n",
       "      <th>298</th>\n",
       "      <th>299</th>\n",
       "    </tr>\n",
       "  </thead>\n",
       "  <tbody>\n",
       "    <tr>\n",
       "      <th>amphibiaweb.org</th>\n",
       "      <td>2.383386</td>\n",
       "      <td>1.243215</td>\n",
       "      <td>0.782704</td>\n",
       "      <td>-0.691165</td>\n",
       "      <td>-0.080835</td>\n",
       "      <td>-0.638561</td>\n",
       "      <td>0.840422</td>\n",
       "      <td>-0.200750</td>\n",
       "      <td>-0.346297</td>\n",
       "      <td>-0.177310</td>\n",
       "      <td>...</td>\n",
       "      <td>0.180366</td>\n",
       "      <td>-0.216721</td>\n",
       "      <td>-0.936201</td>\n",
       "      <td>0.130300</td>\n",
       "      <td>-0.004838</td>\n",
       "      <td>0.211580</td>\n",
       "      <td>0.984754</td>\n",
       "      <td>1.653805</td>\n",
       "      <td>0.114008</td>\n",
       "      <td>-0.441808</td>\n",
       "    </tr>\n",
       "    <tr>\n",
       "      <th>andegavorum</th>\n",
       "      <td>2.299073</td>\n",
       "      <td>-0.154413</td>\n",
       "      <td>0.084963</td>\n",
       "      <td>-1.317420</td>\n",
       "      <td>-0.928468</td>\n",
       "      <td>0.823194</td>\n",
       "      <td>0.533603</td>\n",
       "      <td>1.324872</td>\n",
       "      <td>0.344809</td>\n",
       "      <td>0.539048</td>\n",
       "      <td>...</td>\n",
       "      <td>1.051035</td>\n",
       "      <td>0.421230</td>\n",
       "      <td>-0.626271</td>\n",
       "      <td>0.624682</td>\n",
       "      <td>0.080760</td>\n",
       "      <td>0.849758</td>\n",
       "      <td>0.217712</td>\n",
       "      <td>0.712347</td>\n",
       "      <td>0.353163</td>\n",
       "      <td>0.887824</td>\n",
       "    </tr>\n",
       "    <tr>\n",
       "      <th>reiske</th>\n",
       "      <td>2.295041</td>\n",
       "      <td>0.204441</td>\n",
       "      <td>-0.022760</td>\n",
       "      <td>-0.315606</td>\n",
       "      <td>-0.029753</td>\n",
       "      <td>0.225191</td>\n",
       "      <td>0.215381</td>\n",
       "      <td>0.882625</td>\n",
       "      <td>0.238328</td>\n",
       "      <td>0.765809</td>\n",
       "      <td>...</td>\n",
       "      <td>-0.305810</td>\n",
       "      <td>-0.304357</td>\n",
       "      <td>0.177891</td>\n",
       "      <td>0.143306</td>\n",
       "      <td>-0.139650</td>\n",
       "      <td>0.563671</td>\n",
       "      <td>-0.424972</td>\n",
       "      <td>-0.311885</td>\n",
       "      <td>-0.303003</td>\n",
       "      <td>0.353190</td>\n",
       "    </tr>\n",
       "    <tr>\n",
       "      <th>virginem</th>\n",
       "      <td>2.273339</td>\n",
       "      <td>0.794300</td>\n",
       "      <td>-0.029058</td>\n",
       "      <td>-0.793297</td>\n",
       "      <td>-0.021337</td>\n",
       "      <td>-0.441115</td>\n",
       "      <td>-0.172477</td>\n",
       "      <td>0.717569</td>\n",
       "      <td>-0.402575</td>\n",
       "      <td>-0.233796</td>\n",
       "      <td>...</td>\n",
       "      <td>-0.220241</td>\n",
       "      <td>0.241052</td>\n",
       "      <td>0.109762</td>\n",
       "      <td>0.646236</td>\n",
       "      <td>0.351735</td>\n",
       "      <td>-0.240822</td>\n",
       "      <td>-0.089408</td>\n",
       "      <td>0.772591</td>\n",
       "      <td>-0.059612</td>\n",
       "      <td>-0.367220</td>\n",
       "    </tr>\n",
       "    <tr>\n",
       "      <th>bruys</th>\n",
       "      <td>2.262714</td>\n",
       "      <td>0.225114</td>\n",
       "      <td>0.016751</td>\n",
       "      <td>-0.411804</td>\n",
       "      <td>-0.056492</td>\n",
       "      <td>0.211376</td>\n",
       "      <td>0.192823</td>\n",
       "      <td>0.057007</td>\n",
       "      <td>0.814759</td>\n",
       "      <td>-0.872253</td>\n",
       "      <td>...</td>\n",
       "      <td>-0.257632</td>\n",
       "      <td>-0.106817</td>\n",
       "      <td>0.672275</td>\n",
       "      <td>-0.705625</td>\n",
       "      <td>1.161071</td>\n",
       "      <td>0.008391</td>\n",
       "      <td>0.246170</td>\n",
       "      <td>0.354919</td>\n",
       "      <td>0.059887</td>\n",
       "      <td>0.349734</td>\n",
       "    </tr>\n",
       "  </tbody>\n",
       "</table>\n",
       "<p>5 rows × 300 columns</p>\n",
       "</div>"
      ],
      "text/plain": [
       "                      0         1         2         3         4         5    \\\n",
       "amphibiaweb.org  2.383386  1.243215  0.782704 -0.691165 -0.080835 -0.638561   \n",
       "andegavorum      2.299073 -0.154413  0.084963 -1.317420 -0.928468  0.823194   \n",
       "reiske           2.295041  0.204441 -0.022760 -0.315606 -0.029753  0.225191   \n",
       "virginem         2.273339  0.794300 -0.029058 -0.793297 -0.021337 -0.441115   \n",
       "bruys            2.262714  0.225114  0.016751 -0.411804 -0.056492  0.211376   \n",
       "\n",
       "                      6         7         8         9    ...       290  \\\n",
       "amphibiaweb.org  0.840422 -0.200750 -0.346297 -0.177310  ...  0.180366   \n",
       "andegavorum      0.533603  1.324872  0.344809  0.539048  ...  1.051035   \n",
       "reiske           0.215381  0.882625  0.238328  0.765809  ... -0.305810   \n",
       "virginem        -0.172477  0.717569 -0.402575 -0.233796  ... -0.220241   \n",
       "bruys            0.192823  0.057007  0.814759 -0.872253  ... -0.257632   \n",
       "\n",
       "                      291       292       293       294       295       296  \\\n",
       "amphibiaweb.org -0.216721 -0.936201  0.130300 -0.004838  0.211580  0.984754   \n",
       "andegavorum      0.421230 -0.626271  0.624682  0.080760  0.849758  0.217712   \n",
       "reiske          -0.304357  0.177891  0.143306 -0.139650  0.563671 -0.424972   \n",
       "virginem         0.241052  0.109762  0.646236  0.351735 -0.240822 -0.089408   \n",
       "bruys           -0.106817  0.672275 -0.705625  1.161071  0.008391  0.246170   \n",
       "\n",
       "                      297       298       299  \n",
       "amphibiaweb.org  1.653805  0.114008 -0.441808  \n",
       "andegavorum      0.712347  0.353163  0.887824  \n",
       "reiske          -0.311885 -0.303003  0.353190  \n",
       "virginem         0.772591 -0.059612 -0.367220  \n",
       "bruys            0.354919  0.059887  0.349734  \n",
       "\n",
       "[5 rows x 300 columns]"
      ]
     },
     "execution_count": 16,
     "metadata": {},
     "output_type": "execute_result"
    }
   ],
   "source": [
    "wvdf = pd.DataFrame(word_vectors.vectors, index=word_vectors.index_to_key)\n",
    "word_vectors2_dict = dict(zip(vocabs, vectors))\n",
    "wvdf.sort_values(0, ascending=False).head()"
   ]
  },
  {
   "cell_type": "code",
   "execution_count": 17,
   "id": "89c8b994",
   "metadata": {},
   "outputs": [
    {
     "name": "stdout",
     "output_type": "stream",
     "text": [
      "LR-Count\n",
      "0.7666666666666667\n",
      "              precision    recall  f1-score   support\n",
      "\n",
      "           0       0.82      0.82      0.82        39\n",
      "           5       0.67      0.67      0.67        21\n",
      "\n",
      "    accuracy                           0.77        60\n",
      "   macro avg       0.74      0.74      0.74        60\n",
      "weighted avg       0.77      0.77      0.77        60\n",
      "\n",
      "\n",
      "\n",
      "LR-TfIdf\n",
      "0.7333333333333333\n",
      "              precision    recall  f1-score   support\n",
      "\n",
      "           0       0.76      0.87      0.81        39\n",
      "           5       0.67      0.48      0.56        21\n",
      "\n",
      "    accuracy                           0.73        60\n",
      "   macro avg       0.71      0.67      0.68        60\n",
      "weighted avg       0.72      0.73      0.72        60\n",
      "\n",
      "\n",
      "\n",
      "SVC-count\n",
      "0.65\n",
      "              precision    recall  f1-score   support\n",
      "\n",
      "           0       0.65      1.00      0.79        39\n",
      "           5       0.00      0.00      0.00        21\n",
      "\n",
      "    accuracy                           0.65        60\n",
      "   macro avg       0.33      0.50      0.39        60\n",
      "weighted avg       0.42      0.65      0.51        60\n",
      "\n",
      "\n",
      "\n",
      "SVC-TfIdf\n"
     ]
    },
    {
     "name": "stderr",
     "output_type": "stream",
     "text": [
      "C:\\Users\\franc\\OneDrive\\Documents\\uVa Master\\phyton\\Lib\\site-packages\\sklearn\\metrics\\_classification.py:1344: UndefinedMetricWarning: Precision and F-score are ill-defined and being set to 0.0 in labels with no predicted samples. Use `zero_division` parameter to control this behavior.\n",
      "  _warn_prf(average, modifier, msg_start, len(result))\n",
      "C:\\Users\\franc\\OneDrive\\Documents\\uVa Master\\phyton\\Lib\\site-packages\\sklearn\\metrics\\_classification.py:1344: UndefinedMetricWarning: Precision and F-score are ill-defined and being set to 0.0 in labels with no predicted samples. Use `zero_division` parameter to control this behavior.\n",
      "  _warn_prf(average, modifier, msg_start, len(result))\n",
      "C:\\Users\\franc\\OneDrive\\Documents\\uVa Master\\phyton\\Lib\\site-packages\\sklearn\\metrics\\_classification.py:1344: UndefinedMetricWarning: Precision and F-score are ill-defined and being set to 0.0 in labels with no predicted samples. Use `zero_division` parameter to control this behavior.\n",
      "  _warn_prf(average, modifier, msg_start, len(result))\n"
     ]
    },
    {
     "name": "stdout",
     "output_type": "stream",
     "text": [
      "0.65\n",
      "              precision    recall  f1-score   support\n",
      "\n",
      "           0       0.65      1.00      0.79        39\n",
      "           5       0.00      0.00      0.00        21\n",
      "\n",
      "    accuracy                           0.65        60\n",
      "   macro avg       0.33      0.50      0.39        60\n",
      "weighted avg       0.42      0.65      0.51        60\n",
      "\n",
      "\n",
      "\n",
      "RF-Count\n"
     ]
    },
    {
     "name": "stderr",
     "output_type": "stream",
     "text": [
      "C:\\Users\\franc\\OneDrive\\Documents\\uVa Master\\phyton\\Lib\\site-packages\\sklearn\\metrics\\_classification.py:1344: UndefinedMetricWarning: Precision and F-score are ill-defined and being set to 0.0 in labels with no predicted samples. Use `zero_division` parameter to control this behavior.\n",
      "  _warn_prf(average, modifier, msg_start, len(result))\n",
      "C:\\Users\\franc\\OneDrive\\Documents\\uVa Master\\phyton\\Lib\\site-packages\\sklearn\\metrics\\_classification.py:1344: UndefinedMetricWarning: Precision and F-score are ill-defined and being set to 0.0 in labels with no predicted samples. Use `zero_division` parameter to control this behavior.\n",
      "  _warn_prf(average, modifier, msg_start, len(result))\n",
      "C:\\Users\\franc\\OneDrive\\Documents\\uVa Master\\phyton\\Lib\\site-packages\\sklearn\\metrics\\_classification.py:1344: UndefinedMetricWarning: Precision and F-score are ill-defined and being set to 0.0 in labels with no predicted samples. Use `zero_division` parameter to control this behavior.\n",
      "  _warn_prf(average, modifier, msg_start, len(result))\n"
     ]
    },
    {
     "name": "stdout",
     "output_type": "stream",
     "text": [
      "0.65\n",
      "              precision    recall  f1-score   support\n",
      "\n",
      "           0       0.66      0.97      0.78        39\n",
      "           5       0.50      0.05      0.09        21\n",
      "\n",
      "    accuracy                           0.65        60\n",
      "   macro avg       0.58      0.51      0.44        60\n",
      "weighted avg       0.60      0.65      0.54        60\n",
      "\n",
      "\n",
      "\n",
      "RF-TfIdf\n",
      "0.7\n",
      "              precision    recall  f1-score   support\n",
      "\n",
      "           0       0.68      1.00      0.81        39\n",
      "           5       1.00      0.14      0.25        21\n",
      "\n",
      "    accuracy                           0.70        60\n",
      "   macro avg       0.84      0.57      0.53        60\n",
      "weighted avg       0.79      0.70      0.62        60\n",
      "\n",
      "\n",
      "\n"
     ]
    }
   ],
   "source": [
    "modelsWE = [\n",
    "    (\n",
    "        \"LR-Count\", \n",
    "        embeddingvectorizer.EmbeddingCountVectorizer(word_vectors2_dict, operator='sum'),\n",
    "        LogisticRegression(solver=\"liblinear\"), \n",
    "    ),\n",
    "    (\n",
    "        \"LR-TfIdf\",\n",
    "        embeddingvectorizer.EmbeddingTfidfVectorizer(word_vectors2_dict, operator='sum'),\n",
    "        LogisticRegression(solver=\"liblinear\"),\n",
    "    ),\n",
    "    (\n",
    "        \"SVC-count\",\n",
    "        embeddingvectorizer.EmbeddingCountVectorizer(word_vectors2_dict, operator='sum'),\n",
    "        SVC(gamma=\"scale\"),\n",
    "    ),\n",
    "    (   \"SVC-TfIdf\",\n",
    "        embeddingvectorizer.EmbeddingTfidfVectorizer(word_vectors2_dict, operator='sum'),\n",
    "        SVC(gamma=\"scale\"),\n",
    "    ),\n",
    "    (\n",
    "        \"RF-Count\",\n",
    "        embeddingvectorizer.EmbeddingCountVectorizer(word_vectors2_dict, operator='sum'),\n",
    "        RandomForestClassifier(n_estimators=100),\n",
    "    ),\n",
    "    (   \"RF-TfIdf\",\n",
    "        embeddingvectorizer.EmbeddingTfidfVectorizer(word_vectors2_dict, operator='sum'),\n",
    "        RandomForestClassifier(n_estimators=100),\n",
    "    ),\n",
    "]\n",
    "\n",
    "for name, vectorizer, classifier in modelsWE:\n",
    "    print(name)\n",
    "    X_train3 = np.array(list(vectorizer.fit_transform(X_train)))\n",
    "    X_test3 = np.array(list(vectorizer.transform(X_test)))\n",
    "    classifier.fit(X_train3, y_train)\n",
    "    y_pred = classifier.predict(X_test3)\n",
    "    print(metrics.accuracy_score(y_test, y_pred))\n",
    "    print(metrics.classification_report(y_test, y_pred))\n",
    "    print(\"\\n\")"
   ]
  },
  {
   "cell_type": "markdown",
   "id": "87c863b0",
   "metadata": {},
   "source": [
    "# Tuning the model"
   ]
  },
  {
   "cell_type": "markdown",
   "id": "4b4c5b6e",
   "metadata": {},
   "source": [
    "I see that the model which performs best is the LR classifier with the Count vectorizer, as it has good scores for accuracy, precision, recall and f1 for both categories of the dependent variable. I tune the model to get even better results. Given that tuning is very time consuming and my laptop struggles with it, I will copy paste the result that I got and I will not run it again. \n",
    "\n",
    "#I define my pipeline as the parameters that I am looking at. I look at C, which determines how much regularization is applied to the logistic regression model. I also look at class weight, which controls the class weights for handling class imbalance. This is particularly important when working with unbalanced data. Gievn that my data is slightly unbalanced, I analyse it. \n",
    "\n",
    "my_pipeline = Pipeline([\n",
    "    ('vectorizer', embeddingvectorizer.EmbeddingCountVectorizer(word_vectors2_dict, operator='sum')),\n",
    "    ('classifier', LogisticRegression(solver=\"liblinear\"max_iter=1000))\n",
    "])\n",
    "\n",
    "param_grid = {\n",
    "    'classifier__C': [0.1, 1.0, 10.0],  # Explore different regularization strengths (inverse of regularization parameter)\n",
    "    'classifier__class_weight': ['balanced', None]\n",
    "}\n",
    "\n",
    "grid_search = GridSearchCV(my_pipeline, param_grid, cv=5, scoring='accuracy')\n",
    "\n",
    "#I fit the grid to the traning data\n",
    "grid_search.fit(X_train, y_train)\n",
    "\n",
    "#I look at the best parameters, accuracy scores, and the classfication report. \n",
    "y_pred = best_estimator.predict(X_test)\n",
    "print(\"Best Parameter:\", grid_search.best_params_)\n",
    "print(metrics.accuracy_score(y_test, y_pred))\n",
    "print(metrics.classification_report(y_test, y_pred))\n",
    "\n",
    "#I get this results: \n",
    "Best Parameter: {'classifier__C': 0.1, 'classifier__class_weight': None}\n",
    "0.7666666666666667\n",
    "              precision    recall  f1-score   support\n",
    "\n",
    "           0       0.82      0.82      0.82        39\n",
    "           5       0.67      0.67      0.67        21\n",
    "\n",
    "    accuracy                           0.77        60\n",
    "   macro avg       0.74      0.74      0.74        60\n",
    "weighted avg       0.77      0.77      0.77        60\n",
    "\n",
    "I see that unfortunately the performance of the model does not improve. Even though we should aim vor an accuracy score over 0.8, my laptop cannot handle any further tuning and, therefore, I keep thE model as it was before given the tuning did not improve its performance. I save it in a pipeline, so that I can use it later to predict the unlabeled data. "
   ]
  },
  {
   "cell_type": "code",
   "execution_count": 18,
   "id": "30d2d142",
   "metadata": {},
   "outputs": [],
   "source": [
    "final_pipeline = Pipeline(\n",
    "    steps=[\n",
    "        (\"vectorizer\", embeddingvectorizer.EmbeddingCountVectorizer(word_vectors2_dict, operator='mean')),\n",
    "        (\"classifier\", LogisticRegression()),\n",
    "    ]\n",
    ")\n",
    "X_train10 = np.array(list(vectorizer.fit_transform(X_train)))\n",
    "X_test10 = np.array(list(vectorizer.transform(X_test)))\n",
    "classifier.fit(X_train10, y_train)\n",
    "y_pred = classifier.predict(X_test10)"
   ]
  },
  {
   "cell_type": "markdown",
   "id": "6a7b725c",
   "metadata": {},
   "source": [
    "# Loading the unlabeled data and cleaning it as for the labled data"
   ]
  },
  {
   "cell_type": "markdown",
   "id": "9e5d3893",
   "metadata": {},
   "source": [
    "I load the labeled data and merge it into one dataframe, I clean the dataframe (for example, looking if there are missing values) and I check that everything is correct. I also merge together the column 'Title' and 'Text', as I did before. Finally, I delete the unnecessary columns."
   ]
  },
  {
   "cell_type": "code",
   "execution_count": 19,
   "id": "9626bc25",
   "metadata": {},
   "outputs": [
    {
     "data": {
      "text/html": [
       "<div>\n",
       "<style scoped>\n",
       "    .dataframe tbody tr th:only-of-type {\n",
       "        vertical-align: middle;\n",
       "    }\n",
       "\n",
       "    .dataframe tbody tr th {\n",
       "        vertical-align: top;\n",
       "    }\n",
       "\n",
       "    .dataframe thead th {\n",
       "        text-align: right;\n",
       "    }\n",
       "</style>\n",
       "<table border=\"1\" class=\"dataframe\">\n",
       "  <thead>\n",
       "    <tr style=\"text-align: right;\">\n",
       "      <th></th>\n",
       "      <th>Link</th>\n",
       "      <th>Title</th>\n",
       "      <th>Text</th>\n",
       "      <th>News outlet</th>\n",
       "    </tr>\n",
       "  </thead>\n",
       "  <tbody>\n",
       "    <tr>\n",
       "      <th>0</th>\n",
       "      <td>https://www.huffingtonpost.it/blog/2022/10/26/...</td>\n",
       "      <td>Il Partito Democratico torni ad essere un part...</td>\n",
       "      <td>Si Ã¨ insediato  il governo  piÃ¹ a destra del...</td>\n",
       "      <td>HuffPost</td>\n",
       "    </tr>\n",
       "    <tr>\n",
       "      <th>1</th>\n",
       "      <td>https://www.huffingtonpost.it/blog/2022/10/02/...</td>\n",
       "      <td>Se il Pd vuole rinascere abbandoni l'arcaica p...</td>\n",
       "      <td>Mettiamoci nei panni di quei milioni di cittad...</td>\n",
       "      <td>HuffPost</td>\n",
       "    </tr>\n",
       "    <tr>\n",
       "      <th>2</th>\n",
       "      <td>https://www.huffingtonpost.it/economia/2022/10...</td>\n",
       "      <td>Un Figliuolo del gas. Meloni vuole centralizza...</td>\n",
       "      <td>Nei contatti che Giorgia Meloni ha allargato n...</td>\n",
       "      <td>HuffPost</td>\n",
       "    </tr>\n",
       "    <tr>\n",
       "      <th>3</th>\n",
       "      <td>https://www.huffingtonpost.it/politica/2022/10...</td>\n",
       "      <td>Bossi torna in campo: nasce il Comitato Nord. ...</td>\n",
       "      <td>Nei giorni della battaglia piÃ¹ importante per...</td>\n",
       "      <td>HuffPost</td>\n",
       "    </tr>\n",
       "    <tr>\n",
       "      <th>4</th>\n",
       "      <td>https://www.huffingtonpost.it/politica/2022/10...</td>\n",
       "      <td>Niente veti. Berlusconi vede Meloni e dà un ai...</td>\n",
       "      <td>âLa nostra rosa la componiamo noi e non mett...</td>\n",
       "      <td>HuffPost</td>\n",
       "    </tr>\n",
       "    <tr>\n",
       "      <th>...</th>\n",
       "      <td>...</td>\n",
       "      <td>...</td>\n",
       "      <td>...</td>\n",
       "      <td>...</td>\n",
       "    </tr>\n",
       "    <tr>\n",
       "      <th>1942</th>\n",
       "      <td>https://www.open.online/2022/07/24/di-battista...</td>\n",
       "      <td>«Nemici dei lavoratori», «Siete come Meloni»: ...</td>\n",
       "      <td>«Il 25 settembre la sfida sarà tra me e  ». Le...</td>\n",
       "      <td>Open</td>\n",
       "    </tr>\n",
       "    <tr>\n",
       "      <th>1943</th>\n",
       "      <td>https://www.open.online/2022/07/24/elodie-vs-p...</td>\n",
       "      <td>Elodie, attacco social a Fratelli d’Italia: «H...</td>\n",
       "      <td>«A me sinceramente  ». Così l’artista pop   su...</td>\n",
       "      <td>Open</td>\n",
       "    </tr>\n",
       "    <tr>\n",
       "      <th>1944</th>\n",
       "      <td>https://www.open.online/2022/07/24/m5s-conte-l...</td>\n",
       "      <td>Ora che è finita col Pd Conte pensa alle liste...</td>\n",
       "      <td>Le parole pronunciate dai due più diretti inte...</td>\n",
       "      <td>Open</td>\n",
       "    </tr>\n",
       "    <tr>\n",
       "      <th>1945</th>\n",
       "      <td>https://www.open.online/2022/07/24/letta-rottu...</td>\n",
       "      <td>Letta contraccambia l’addio di Conte: «Con il ...</td>\n",
       "      <td>La   con 5 stelle «in queste elezioni è  ». Co...</td>\n",
       "      <td>Open</td>\n",
       "    </tr>\n",
       "    <tr>\n",
       "      <th>1946</th>\n",
       "      <td>https://www.open.online/2022/07/15/crisi-di-go...</td>\n",
       "      <td>Cacciari: «Mattarella non ci porterà mai al vo...</td>\n",
       "      <td>Il filosofo   pensa che   non porterà l’Italia...</td>\n",
       "      <td>Open</td>\n",
       "    </tr>\n",
       "  </tbody>\n",
       "</table>\n",
       "<p>1947 rows × 4 columns</p>\n",
       "</div>"
      ],
      "text/plain": [
       "                                                   Link  \\\n",
       "0     https://www.huffingtonpost.it/blog/2022/10/26/...   \n",
       "1     https://www.huffingtonpost.it/blog/2022/10/02/...   \n",
       "2     https://www.huffingtonpost.it/economia/2022/10...   \n",
       "3     https://www.huffingtonpost.it/politica/2022/10...   \n",
       "4     https://www.huffingtonpost.it/politica/2022/10...   \n",
       "...                                                 ...   \n",
       "1942  https://www.open.online/2022/07/24/di-battista...   \n",
       "1943  https://www.open.online/2022/07/24/elodie-vs-p...   \n",
       "1944  https://www.open.online/2022/07/24/m5s-conte-l...   \n",
       "1945  https://www.open.online/2022/07/24/letta-rottu...   \n",
       "1946  https://www.open.online/2022/07/15/crisi-di-go...   \n",
       "\n",
       "                                                  Title  \\\n",
       "0     Il Partito Democratico torni ad essere un part...   \n",
       "1     Se il Pd vuole rinascere abbandoni l'arcaica p...   \n",
       "2     Un Figliuolo del gas. Meloni vuole centralizza...   \n",
       "3     Bossi torna in campo: nasce il Comitato Nord. ...   \n",
       "4     Niente veti. Berlusconi vede Meloni e dà un ai...   \n",
       "...                                                 ...   \n",
       "1942  «Nemici dei lavoratori», «Siete come Meloni»: ...   \n",
       "1943  Elodie, attacco social a Fratelli d’Italia: «H...   \n",
       "1944  Ora che è finita col Pd Conte pensa alle liste...   \n",
       "1945  Letta contraccambia l’addio di Conte: «Con il ...   \n",
       "1946  Cacciari: «Mattarella non ci porterà mai al vo...   \n",
       "\n",
       "                                                   Text News outlet  \n",
       "0     Si Ã¨ insediato  il governo  piÃ¹ a destra del...    HuffPost  \n",
       "1     Mettiamoci nei panni di quei milioni di cittad...    HuffPost  \n",
       "2     Nei contatti che Giorgia Meloni ha allargato n...    HuffPost  \n",
       "3     Nei giorni della battaglia piÃ¹ importante per...    HuffPost  \n",
       "4     âLa nostra rosa la componiamo noi e non mett...    HuffPost  \n",
       "...                                                 ...         ...  \n",
       "1942  «Il 25 settembre la sfida sarà tra me e  ». Le...        Open  \n",
       "1943  «A me sinceramente  ». Così l’artista pop   su...        Open  \n",
       "1944  Le parole pronunciate dai due più diretti inte...        Open  \n",
       "1945  La   con 5 stelle «in queste elezioni è  ». Co...        Open  \n",
       "1946  Il filosofo   pensa che   non porterà l’Italia...        Open  \n",
       "\n",
       "[1947 rows x 4 columns]"
      ]
     },
     "execution_count": 19,
     "metadata": {},
     "output_type": "execute_result"
    }
   ],
   "source": [
    "unbaleledata = pd.read_csv(\"articlesHuff_unlabeled.csv\")\n",
    "unlabeledata1 = pd.read_csv(\"articlesRepubblica_unlabeled.csv\")\n",
    "unlabeledata2 = pd.read_csv(\"articlesFattoQuotidiano_unlabeled.csv\")\n",
    "unlabeledata3 = pd.read_csv(\"articlesPost_unlabeled.csv\")\n",
    "unlabeledata4 = pd.read_csv(\"articlesOpen_unlabeled.csv\")\n",
    "finalunlabeledata = unbaleledata.merge(unlabeledata1, how = 'outer')\n",
    "finalunlabeledata2 = finalunlabeledata.merge(unlabeledata2, how = 'outer')\n",
    "finalunlabeledata3 = finalunlabeledata2.merge(unlabeledata3, how = 'outer')\n",
    "unlabeled_articles = finalunlabeledata3.merge(unlabeledata4, how = 'outer')\n",
    "unlabeled_articles"
   ]
  },
  {
   "cell_type": "code",
   "execution_count": 20,
   "id": "7bff81b9",
   "metadata": {},
   "outputs": [
    {
     "name": "stdout",
     "output_type": "stream",
     "text": [
      "Empty DataFrame\n",
      "Columns: [Link, Title, Text, News outlet]\n",
      "Index: []\n"
     ]
    }
   ],
   "source": [
    "duplicates = unlabeled_articles.duplicated()\n",
    "print(unlabeled_articles[duplicates])"
   ]
  },
  {
   "cell_type": "code",
   "execution_count": 21,
   "id": "cbd9ae19",
   "metadata": {},
   "outputs": [
    {
     "data": {
      "text/plain": [
       "Link            0\n",
       "Title           0\n",
       "Text           61\n",
       "News outlet     0\n",
       "dtype: int64"
      ]
     },
     "execution_count": 21,
     "metadata": {},
     "output_type": "execute_result"
    }
   ],
   "source": [
    "unlabeled_articles.isnull().sum()"
   ]
  },
  {
   "cell_type": "code",
   "execution_count": 22,
   "id": "d21e670e",
   "metadata": {},
   "outputs": [
    {
     "data": {
      "text/plain": [
       "Link           0\n",
       "Title          0\n",
       "Text           0\n",
       "News outlet    0\n",
       "dtype: int64"
      ]
     },
     "execution_count": 22,
     "metadata": {},
     "output_type": "execute_result"
    }
   ],
   "source": [
    "unlabeled_articles = unlabeled_articles.dropna(subset=['Text'])\n",
    "unlabeled_articles.isnull().sum()"
   ]
  },
  {
   "cell_type": "code",
   "execution_count": 23,
   "id": "7d706c83",
   "metadata": {},
   "outputs": [
    {
     "name": "stderr",
     "output_type": "stream",
     "text": [
      "C:\\Users\\franc\\AppData\\Local\\Temp\\ipykernel_21192\\3464520992.py:1: SettingWithCopyWarning: \n",
      "A value is trying to be set on a copy of a slice from a DataFrame.\n",
      "Try using .loc[row_indexer,col_indexer] = value instead\n",
      "\n",
      "See the caveats in the documentation: https://pandas.pydata.org/pandas-docs/stable/user_guide/indexing.html#returning-a-view-versus-a-copy\n",
      "  unlabeled_articles['Full_text'] = unlabeled_articles['Title'] + ' ' + unlabeled_articles['Text']\n"
     ]
    }
   ],
   "source": [
    "unlabeled_articles['Full_text'] = unlabeled_articles['Title'] + ' ' + unlabeled_articles['Text']"
   ]
  },
  {
   "cell_type": "code",
   "execution_count": 24,
   "id": "116333fa",
   "metadata": {},
   "outputs": [
    {
     "data": {
      "text/html": [
       "<div>\n",
       "<style scoped>\n",
       "    .dataframe tbody tr th:only-of-type {\n",
       "        vertical-align: middle;\n",
       "    }\n",
       "\n",
       "    .dataframe tbody tr th {\n",
       "        vertical-align: top;\n",
       "    }\n",
       "\n",
       "    .dataframe thead th {\n",
       "        text-align: right;\n",
       "    }\n",
       "</style>\n",
       "<table border=\"1\" class=\"dataframe\">\n",
       "  <thead>\n",
       "    <tr style=\"text-align: right;\">\n",
       "      <th></th>\n",
       "      <th>News outlet</th>\n",
       "      <th>Full_text</th>\n",
       "    </tr>\n",
       "  </thead>\n",
       "  <tbody>\n",
       "    <tr>\n",
       "      <th>0</th>\n",
       "      <td>HuffPost</td>\n",
       "      <td>Il Partito Democratico torni ad essere un part...</td>\n",
       "    </tr>\n",
       "    <tr>\n",
       "      <th>1</th>\n",
       "      <td>HuffPost</td>\n",
       "      <td>Se il Pd vuole rinascere abbandoni l'arcaica p...</td>\n",
       "    </tr>\n",
       "    <tr>\n",
       "      <th>2</th>\n",
       "      <td>HuffPost</td>\n",
       "      <td>Un Figliuolo del gas. Meloni vuole centralizza...</td>\n",
       "    </tr>\n",
       "    <tr>\n",
       "      <th>3</th>\n",
       "      <td>HuffPost</td>\n",
       "      <td>Bossi torna in campo: nasce il Comitato Nord. ...</td>\n",
       "    </tr>\n",
       "    <tr>\n",
       "      <th>4</th>\n",
       "      <td>HuffPost</td>\n",
       "      <td>Niente veti. Berlusconi vede Meloni e dà un ai...</td>\n",
       "    </tr>\n",
       "  </tbody>\n",
       "</table>\n",
       "</div>"
      ],
      "text/plain": [
       "  News outlet                                          Full_text\n",
       "0    HuffPost  Il Partito Democratico torni ad essere un part...\n",
       "1    HuffPost  Se il Pd vuole rinascere abbandoni l'arcaica p...\n",
       "2    HuffPost  Un Figliuolo del gas. Meloni vuole centralizza...\n",
       "3    HuffPost  Bossi torna in campo: nasce il Comitato Nord. ...\n",
       "4    HuffPost  Niente veti. Berlusconi vede Meloni e dà un ai..."
      ]
     },
     "execution_count": 24,
     "metadata": {},
     "output_type": "execute_result"
    }
   ],
   "source": [
    "unlabeled_articles = unlabeled_articles.drop(columns=[\"Title\", \"Text\", \"Link\"]).copy()\n",
    "unlabeled_articles.head()"
   ]
  },
  {
   "cell_type": "code",
   "execution_count": 25,
   "id": "6341e06d",
   "metadata": {},
   "outputs": [
    {
     "data": {
      "text/plain": [
       "0"
      ]
     },
     "execution_count": 25,
     "metadata": {},
     "output_type": "execute_result"
    }
   ],
   "source": [
    "unlabeled_articles.Full_text.str.contains(r\"https?://[\\w\\.]+\\b|www\\.[\\w\\.]+\\b\").sum()"
   ]
  },
  {
   "cell_type": "code",
   "execution_count": 26,
   "id": "24d16d22",
   "metadata": {},
   "outputs": [
    {
     "data": {
      "text/plain": [
       "0"
      ]
     },
     "execution_count": 26,
     "metadata": {},
     "output_type": "execute_result"
    }
   ],
   "source": [
    "unlabeled_articles.Full_text.str.contains(r\"</?\\w[^>]*>\").sum()"
   ]
  },
  {
   "cell_type": "code",
   "execution_count": 27,
   "id": "db238caf",
   "metadata": {},
   "outputs": [
    {
     "data": {
      "text/plain": [
       "4"
      ]
     },
     "execution_count": 27,
     "metadata": {},
     "output_type": "execute_result"
    }
   ],
   "source": [
    "unlabeled_articles.Full_text.str.contains(r\"&[^;]+;\").sum()"
   ]
  },
  {
   "cell_type": "code",
   "execution_count": 28,
   "id": "882d84b5",
   "metadata": {},
   "outputs": [],
   "source": [
    "unlabeled_articles['Full_text'] = unlabeled_articles['Full_text'].str.replace(r\"&[^;]+;\", '', regex=True)"
   ]
  },
  {
   "cell_type": "code",
   "execution_count": 29,
   "id": "2f1e2060",
   "metadata": {},
   "outputs": [
    {
     "data": {
      "text/plain": [
       "0"
      ]
     },
     "execution_count": 29,
     "metadata": {},
     "output_type": "execute_result"
    }
   ],
   "source": [
    "unlabeled_articles.Full_text.str.contains(r\"&[^;]+;\").sum()"
   ]
  },
  {
   "cell_type": "code",
   "execution_count": 30,
   "id": "b59c7afa",
   "metadata": {},
   "outputs": [
    {
     "data": {
      "text/plain": [
       "0"
      ]
     },
     "execution_count": 30,
     "metadata": {},
     "output_type": "execute_result"
    }
   ],
   "source": [
    "unlabeled_articles.to_csv(\"unlabeled_articlesNEW.csv\", index=False)\n",
    "unlabeled_articles.Full_text.str.contains(r\"&[^;]+;\").sum()"
   ]
  },
  {
   "cell_type": "markdown",
   "id": "a33ac4f8",
   "metadata": {},
   "source": [
    "# Predicting the unlabeled data"
   ]
  },
  {
   "cell_type": "markdown",
   "id": "46047b41",
   "metadata": {},
   "source": [
    "I predict the unlabeled data with the model set above. I then check that it worked out and I save the model."
   ]
  },
  {
   "cell_type": "code",
   "execution_count": 31,
   "id": "15a2a48a",
   "metadata": {},
   "outputs": [],
   "source": [
    "final_pipeline.fit(labeled_articles[\"Full_text\"], labeled_articles[\"Frame\"])\n",
    "labels = {5: \"Issue-focused\", 0: \"Other\"}\n",
    "labeled_articles[\"Frame\"] = labeled_articles[\"Frame\"].replace(labels)\n",
    "\n",
    "predictions = final_pipeline.predict(unlabeled_articles[\"Full_text\"])\n",
    "unlabeled_articles[\"predictions\"] = predictions"
   ]
  },
  {
   "cell_type": "code",
   "execution_count": 32,
   "id": "2411d6cc",
   "metadata": {},
   "outputs": [
    {
     "data": {
      "text/html": [
       "<div>\n",
       "<style scoped>\n",
       "    .dataframe tbody tr th:only-of-type {\n",
       "        vertical-align: middle;\n",
       "    }\n",
       "\n",
       "    .dataframe tbody tr th {\n",
       "        vertical-align: top;\n",
       "    }\n",
       "\n",
       "    .dataframe thead th {\n",
       "        text-align: right;\n",
       "    }\n",
       "</style>\n",
       "<table border=\"1\" class=\"dataframe\">\n",
       "  <thead>\n",
       "    <tr style=\"text-align: right;\">\n",
       "      <th></th>\n",
       "      <th>News outlet</th>\n",
       "      <th>Full_text</th>\n",
       "      <th>predictions</th>\n",
       "    </tr>\n",
       "  </thead>\n",
       "  <tbody>\n",
       "    <tr>\n",
       "      <th>0</th>\n",
       "      <td>HuffPost</td>\n",
       "      <td>Il Partito Democratico torni ad essere un part...</td>\n",
       "      <td>0</td>\n",
       "    </tr>\n",
       "    <tr>\n",
       "      <th>1</th>\n",
       "      <td>HuffPost</td>\n",
       "      <td>Se il Pd vuole rinascere abbandoni l'arcaica p...</td>\n",
       "      <td>0</td>\n",
       "    </tr>\n",
       "    <tr>\n",
       "      <th>2</th>\n",
       "      <td>HuffPost</td>\n",
       "      <td>Un Figliuolo del gas. Meloni vuole centralizza...</td>\n",
       "      <td>0</td>\n",
       "    </tr>\n",
       "    <tr>\n",
       "      <th>3</th>\n",
       "      <td>HuffPost</td>\n",
       "      <td>Bossi torna in campo: nasce il Comitato Nord. ...</td>\n",
       "      <td>0</td>\n",
       "    </tr>\n",
       "    <tr>\n",
       "      <th>4</th>\n",
       "      <td>HuffPost</td>\n",
       "      <td>Niente veti. Berlusconi vede Meloni e dà un ai...</td>\n",
       "      <td>0</td>\n",
       "    </tr>\n",
       "  </tbody>\n",
       "</table>\n",
       "</div>"
      ],
      "text/plain": [
       "  News outlet                                          Full_text  predictions\n",
       "0    HuffPost  Il Partito Democratico torni ad essere un part...            0\n",
       "1    HuffPost  Se il Pd vuole rinascere abbandoni l'arcaica p...            0\n",
       "2    HuffPost  Un Figliuolo del gas. Meloni vuole centralizza...            0\n",
       "3    HuffPost  Bossi torna in campo: nasce il Comitato Nord. ...            0\n",
       "4    HuffPost  Niente veti. Berlusconi vede Meloni e dà un ai...            0"
      ]
     },
     "execution_count": 32,
     "metadata": {},
     "output_type": "execute_result"
    }
   ],
   "source": [
    "unlabeled_articles.head()"
   ]
  },
  {
   "cell_type": "code",
   "execution_count": 33,
   "id": "08d7b834",
   "metadata": {},
   "outputs": [
    {
     "data": {
      "text/html": [
       "<div>\n",
       "<style scoped>\n",
       "    .dataframe tbody tr th:only-of-type {\n",
       "        vertical-align: middle;\n",
       "    }\n",
       "\n",
       "    .dataframe tbody tr th {\n",
       "        vertical-align: top;\n",
       "    }\n",
       "\n",
       "    .dataframe thead th {\n",
       "        text-align: right;\n",
       "    }\n",
       "</style>\n",
       "<table border=\"1\" class=\"dataframe\">\n",
       "  <thead>\n",
       "    <tr style=\"text-align: right;\">\n",
       "      <th></th>\n",
       "      <th>News outlet</th>\n",
       "      <th>Full_text</th>\n",
       "      <th>predictions</th>\n",
       "    </tr>\n",
       "  </thead>\n",
       "  <tbody>\n",
       "    <tr>\n",
       "      <th>0</th>\n",
       "      <td>HuffPost</td>\n",
       "      <td>Il Partito Democratico torni ad essere un part...</td>\n",
       "      <td>0</td>\n",
       "    </tr>\n",
       "    <tr>\n",
       "      <th>1</th>\n",
       "      <td>HuffPost</td>\n",
       "      <td>Se il Pd vuole rinascere abbandoni l'arcaica p...</td>\n",
       "      <td>0</td>\n",
       "    </tr>\n",
       "    <tr>\n",
       "      <th>2</th>\n",
       "      <td>HuffPost</td>\n",
       "      <td>Un Figliuolo del gas. Meloni vuole centralizza...</td>\n",
       "      <td>0</td>\n",
       "    </tr>\n",
       "    <tr>\n",
       "      <th>3</th>\n",
       "      <td>HuffPost</td>\n",
       "      <td>Bossi torna in campo: nasce il Comitato Nord. ...</td>\n",
       "      <td>0</td>\n",
       "    </tr>\n",
       "    <tr>\n",
       "      <th>4</th>\n",
       "      <td>HuffPost</td>\n",
       "      <td>Niente veti. Berlusconi vede Meloni e dà un ai...</td>\n",
       "      <td>0</td>\n",
       "    </tr>\n",
       "    <tr>\n",
       "      <th>...</th>\n",
       "      <td>...</td>\n",
       "      <td>...</td>\n",
       "      <td>...</td>\n",
       "    </tr>\n",
       "    <tr>\n",
       "      <th>1942</th>\n",
       "      <td>Open</td>\n",
       "      <td>«Nemici dei lavoratori», «Siete come Meloni»: ...</td>\n",
       "      <td>0</td>\n",
       "    </tr>\n",
       "    <tr>\n",
       "      <th>1943</th>\n",
       "      <td>Open</td>\n",
       "      <td>Elodie, attacco social a Fratelli d’Italia: «H...</td>\n",
       "      <td>0</td>\n",
       "    </tr>\n",
       "    <tr>\n",
       "      <th>1944</th>\n",
       "      <td>Open</td>\n",
       "      <td>Ora che è finita col Pd Conte pensa alle liste...</td>\n",
       "      <td>0</td>\n",
       "    </tr>\n",
       "    <tr>\n",
       "      <th>1945</th>\n",
       "      <td>Open</td>\n",
       "      <td>Letta contraccambia l’addio di Conte: «Con il ...</td>\n",
       "      <td>0</td>\n",
       "    </tr>\n",
       "    <tr>\n",
       "      <th>1946</th>\n",
       "      <td>Open</td>\n",
       "      <td>Cacciari: «Mattarella non ci porterà mai al vo...</td>\n",
       "      <td>0</td>\n",
       "    </tr>\n",
       "  </tbody>\n",
       "</table>\n",
       "<p>1886 rows × 3 columns</p>\n",
       "</div>"
      ],
      "text/plain": [
       "     News outlet                                          Full_text  \\\n",
       "0       HuffPost  Il Partito Democratico torni ad essere un part...   \n",
       "1       HuffPost  Se il Pd vuole rinascere abbandoni l'arcaica p...   \n",
       "2       HuffPost  Un Figliuolo del gas. Meloni vuole centralizza...   \n",
       "3       HuffPost  Bossi torna in campo: nasce il Comitato Nord. ...   \n",
       "4       HuffPost  Niente veti. Berlusconi vede Meloni e dà un ai...   \n",
       "...          ...                                                ...   \n",
       "1942        Open  «Nemici dei lavoratori», «Siete come Meloni»: ...   \n",
       "1943        Open  Elodie, attacco social a Fratelli d’Italia: «H...   \n",
       "1944        Open  Ora che è finita col Pd Conte pensa alle liste...   \n",
       "1945        Open  Letta contraccambia l’addio di Conte: «Con il ...   \n",
       "1946        Open  Cacciari: «Mattarella non ci porterà mai al vo...   \n",
       "\n",
       "      predictions  \n",
       "0               0  \n",
       "1               0  \n",
       "2               0  \n",
       "3               0  \n",
       "4               0  \n",
       "...           ...  \n",
       "1942            0  \n",
       "1943            0  \n",
       "1944            0  \n",
       "1945            0  \n",
       "1946            0  \n",
       "\n",
       "[1886 rows x 3 columns]"
      ]
     },
     "execution_count": 33,
     "metadata": {},
     "output_type": "execute_result"
    }
   ],
   "source": [
    "df_predictions = pd.DataFrame(unlabeled_articles)\n",
    "df_predictions.to_csv(\"predicted_unlabeleddata.csv\", index=False)\n",
    "df_predictions"
   ]
  },
  {
   "cell_type": "code",
   "execution_count": 34,
   "id": "a0492018",
   "metadata": {},
   "outputs": [
    {
     "name": "stdout",
     "output_type": "stream",
     "text": [
      "0    1846\n",
      "5      40\n",
      "Name: predictions, dtype: int64\n"
     ]
    }
   ],
   "source": [
    "value_counts = df_predictions['predictions'].value_counts()\n",
    "\n",
    "print(value_counts)"
   ]
  },
  {
   "cell_type": "code",
   "execution_count": 35,
   "id": "fc1be952",
   "metadata": {},
   "outputs": [
    {
     "data": {
      "text/html": [
       "<div>\n",
       "<style scoped>\n",
       "    .dataframe tbody tr th:only-of-type {\n",
       "        vertical-align: middle;\n",
       "    }\n",
       "\n",
       "    .dataframe tbody tr th {\n",
       "        vertical-align: top;\n",
       "    }\n",
       "\n",
       "    .dataframe thead th {\n",
       "        text-align: right;\n",
       "    }\n",
       "</style>\n",
       "<table border=\"1\" class=\"dataframe\">\n",
       "  <thead>\n",
       "    <tr style=\"text-align: right;\">\n",
       "      <th></th>\n",
       "      <th>News outlet</th>\n",
       "      <th>Full_text</th>\n",
       "      <th>predictions</th>\n",
       "    </tr>\n",
       "  </thead>\n",
       "  <tbody>\n",
       "    <tr>\n",
       "      <th>0</th>\n",
       "      <td>HuffPost</td>\n",
       "      <td>Il Partito Democratico torni ad essere un part...</td>\n",
       "      <td>0</td>\n",
       "    </tr>\n",
       "    <tr>\n",
       "      <th>1</th>\n",
       "      <td>HuffPost</td>\n",
       "      <td>Se il Pd vuole rinascere abbandoni l'arcaica p...</td>\n",
       "      <td>0</td>\n",
       "    </tr>\n",
       "    <tr>\n",
       "      <th>2</th>\n",
       "      <td>HuffPost</td>\n",
       "      <td>Un Figliuolo del gas. Meloni vuole centralizza...</td>\n",
       "      <td>0</td>\n",
       "    </tr>\n",
       "    <tr>\n",
       "      <th>3</th>\n",
       "      <td>HuffPost</td>\n",
       "      <td>Bossi torna in campo: nasce il Comitato Nord. ...</td>\n",
       "      <td>0</td>\n",
       "    </tr>\n",
       "    <tr>\n",
       "      <th>4</th>\n",
       "      <td>HuffPost</td>\n",
       "      <td>Niente veti. Berlusconi vede Meloni e dà un ai...</td>\n",
       "      <td>0</td>\n",
       "    </tr>\n",
       "    <tr>\n",
       "      <th>...</th>\n",
       "      <td>...</td>\n",
       "      <td>...</td>\n",
       "      <td>...</td>\n",
       "    </tr>\n",
       "    <tr>\n",
       "      <th>1942</th>\n",
       "      <td>Open</td>\n",
       "      <td>«Nemici dei lavoratori», «Siete come Meloni»: ...</td>\n",
       "      <td>0</td>\n",
       "    </tr>\n",
       "    <tr>\n",
       "      <th>1943</th>\n",
       "      <td>Open</td>\n",
       "      <td>Elodie, attacco social a Fratelli d’Italia: «H...</td>\n",
       "      <td>0</td>\n",
       "    </tr>\n",
       "    <tr>\n",
       "      <th>1944</th>\n",
       "      <td>Open</td>\n",
       "      <td>Ora che è finita col Pd Conte pensa alle liste...</td>\n",
       "      <td>0</td>\n",
       "    </tr>\n",
       "    <tr>\n",
       "      <th>1945</th>\n",
       "      <td>Open</td>\n",
       "      <td>Letta contraccambia l’addio di Conte: «Con il ...</td>\n",
       "      <td>0</td>\n",
       "    </tr>\n",
       "    <tr>\n",
       "      <th>1946</th>\n",
       "      <td>Open</td>\n",
       "      <td>Cacciari: «Mattarella non ci porterà mai al vo...</td>\n",
       "      <td>0</td>\n",
       "    </tr>\n",
       "  </tbody>\n",
       "</table>\n",
       "<p>1886 rows × 3 columns</p>\n",
       "</div>"
      ],
      "text/plain": [
       "     News outlet                                          Full_text  \\\n",
       "0       HuffPost  Il Partito Democratico torni ad essere un part...   \n",
       "1       HuffPost  Se il Pd vuole rinascere abbandoni l'arcaica p...   \n",
       "2       HuffPost  Un Figliuolo del gas. Meloni vuole centralizza...   \n",
       "3       HuffPost  Bossi torna in campo: nasce il Comitato Nord. ...   \n",
       "4       HuffPost  Niente veti. Berlusconi vede Meloni e dà un ai...   \n",
       "...          ...                                                ...   \n",
       "1942        Open  «Nemici dei lavoratori», «Siete come Meloni»: ...   \n",
       "1943        Open  Elodie, attacco social a Fratelli d’Italia: «H...   \n",
       "1944        Open  Ora che è finita col Pd Conte pensa alle liste...   \n",
       "1945        Open  Letta contraccambia l’addio di Conte: «Con il ...   \n",
       "1946        Open  Cacciari: «Mattarella non ci porterà mai al vo...   \n",
       "\n",
       "      predictions  \n",
       "0               0  \n",
       "1               0  \n",
       "2               0  \n",
       "3               0  \n",
       "4               0  \n",
       "...           ...  \n",
       "1942            0  \n",
       "1943            0  \n",
       "1944            0  \n",
       "1945            0  \n",
       "1946            0  \n",
       "\n",
       "[1886 rows x 3 columns]"
      ]
     },
     "execution_count": 35,
     "metadata": {},
     "output_type": "execute_result"
    }
   ],
   "source": [
    "new_category_labels = ['Issue-focused', 'Other']\n",
    "\n",
    "df_predictions['predictions'] = df_predictions['predictions'].replace({'Issue-focused': new_category_labels[1],\n",
    "                                                                       'Other': new_category_labels[0]})\n",
    "df_predictions"
   ]
  },
  {
   "cell_type": "markdown",
   "id": "8e914521",
   "metadata": {},
   "source": [
    "# Statistical analyses"
   ]
  },
  {
   "cell_type": "markdown",
   "id": "f75cc9c7",
   "metadata": {},
   "source": [
    "For the general research question, I do not need to perform any statistical analysis, but to look at the frequencies of the frames employed. To do so, I make 2 graphs, one showing the amount of issue frames and one showing the same but per news outlet. For both plots I also print the percentages of the frequency of th frames to give a better overview. I save the plots and then I perform a chi-square test to answer the subresearch question and I print the results. Indeed, I have to perform a chi-square since I have to categorical variables."
   ]
  },
  {
   "cell_type": "code",
   "execution_count": 36,
   "id": "01e3a6ea",
   "metadata": {},
   "outputs": [
    {
     "data": {
      "text/plain": [
       "<bound method Figure.show of <Figure size 640x480 with 1 Axes>>"
      ]
     },
     "execution_count": 36,
     "metadata": {},
     "output_type": "execute_result"
    },
    {
     "data": {
      "image/png": "[encoded data removed]",
      "text/plain": [
       "<Figure size 640x480 with 1 Axes>"
      ]
     },
     "metadata": {},
     "output_type": "display_data"
    }
   ],
   "source": [
    "new_category_labels = ['Issue-focused', 'Other']\n",
    "\n",
    "df_predictions['predictions'] = df_predictions['predictions'].replace({'Issue-focused': new_category_labels[1],\n",
    "                                                                    'Other': new_category_labels[0]})\n",
    "\n",
    "plot1 = sns.countplot(x='predictions', data=df_predictions,  dodge=2)   \n",
    "plot1.set_xticklabels(new_category_labels)\n",
    "plot1.set_title('Amount of issue-focused frames in the media coverage ofthe 2022 italian general elections', size=11, fontweight='bold', color='black')\n",
    "plot1.set(xlabel='Type of frame',\n",
    "       ylabel='Amount of frames in the media')\n",
    "\n",
    "value_counts = unlabeled_articles['predictions'].value_counts()\n",
    "total = value_counts.sum()\n",
    "for p in plot1.patches:\n",
    "    height = p.get_height()\n",
    "    percentage = f\"{height/total:.1%}\"\n",
    "    plot1.annotate(percentage, (p.get_x() + p.get_width() / 2., height), ha='center', va='bottom')\n",
    "    \n",
    "sns.despine()\n",
    "plt.savefig('Figure1.png')\n",
    "plot1.figure.show"
   ]
  },
  {
   "cell_type": "code",
   "execution_count": 37,
   "id": "9a9d060f",
   "metadata": {},
   "outputs": [
    {
     "data": {
      "image/png": "[encoded data removed]",
      "text/plain": [
       "<Figure size 640x480 with 1 Axes>"
      ]
     },
     "metadata": {},
     "output_type": "display_data"
    }
   ],
   "source": [
    "plot2 = sns.countplot(x=\"News outlet\", hue=\"predictions\", data=df_predictions, dodge=2)\n",
    "plot2.legend(title='Type of frame', labels=['Issue-focused frame', 'Other frame'], bbox_to_anchor=(1, 1))\n",
    "legend_font = {'family': 'Arial', 'size': 12, 'weight': 'bold'}\n",
    "plot2.set_title('Amount of issue-frame media coverage during the 2022 Italian general elections per newspaper', size=11, fontweight='bold', color='black')\n",
    "plot2.set(xlabel='Type of frame', ylabel='Amount of frames in the media')\n",
    "\n",
    "\n",
    "\n",
    "def with_hue(ax, feature, number_of_categories, hue_categories):\n",
    "    a = [p.get_height() for p in ax.patches]\n",
    "    patch = [p for p in ax.patches]\n",
    "    for i in range(number_of_categories):\n",
    "        for j in range(hue_categories):\n",
    "            count = a[(j*number_of_categories + i)]\n",
    "            news_outlet = feature.unique()[i]\n",
    "            total = feature[feature == news_outlet].count()\n",
    "            percentage = '{:.1f}%'.format(count/total*100)\n",
    "            x = patch[(j*number_of_categories + i)].get_x() + patch[(j*number_of_categories + i)].get_width() / 2\n",
    "            y = patch[(j*number_of_categories + i)].get_height()\n",
    "            ax.annotate(percentage, (x, y), ha='center', va='bottom', color='black', size=10)\n",
    "number_of_categories = len(df_predictions[\"News outlet\"].unique())\n",
    "hue_categories = len(df_predictions[\"predictions\"].unique())\n",
    "\n",
    "with_hue(plot2, df_predictions[\"News outlet\"], number_of_categories, hue_categories)\n",
    "sns.despine()\n",
    "plt.savefig('Figure2.png')\n",
    "plt.show()"
   ]
  },
  {
   "cell_type": "markdown",
   "id": "782d779b",
   "metadata": {},
   "source": [
    "Now, I run the chi-square test. I first have to regrouo the values fo the News outlet column: I assign the value of 0 to La Repubblica and Il fatto Quotidiano (both print and online news outlets) and 1 to Il Post, Open and HuffPost (solely online news outlets). Then, I calculate the observed frequencies and, fianlly, I can calculate the chi square. In the end, I print the results. "
   ]
  },
  {
   "cell_type": "code",
   "execution_count": 38,
   "id": "7b08a25d",
   "metadata": {},
   "outputs": [
    {
     "name": "stdout",
     "output_type": "stream",
     "text": [
      "     News outlet                                          Full_text  \\\n",
      "0       HuffPost  Il Partito Democratico torni ad essere un part...   \n",
      "1       HuffPost  Se il Pd vuole rinascere abbandoni l'arcaica p...   \n",
      "2       HuffPost  Un Figliuolo del gas. Meloni vuole centralizza...   \n",
      "3       HuffPost  Bossi torna in campo: nasce il Comitato Nord. ...   \n",
      "4       HuffPost  Niente veti. Berlusconi vede Meloni e dà un ai...   \n",
      "...          ...                                                ...   \n",
      "1942        Open  «Nemici dei lavoratori», «Siete come Meloni»: ...   \n",
      "1943        Open  Elodie, attacco social a Fratelli d’Italia: «H...   \n",
      "1944        Open  Ora che è finita col Pd Conte pensa alle liste...   \n",
      "1945        Open  Letta contraccambia l’addio di Conte: «Con il ...   \n",
      "1946        Open  Cacciari: «Mattarella non ci porterà mai al vo...   \n",
      "\n",
      "      predictions News outlet2  \n",
      "0               0            1  \n",
      "1               0            1  \n",
      "2               0            1  \n",
      "3               0            1  \n",
      "4               0            1  \n",
      "...           ...          ...  \n",
      "1942            0            1  \n",
      "1943            0            1  \n",
      "1944            0            1  \n",
      "1945            0            1  \n",
      "1946            0            1  \n",
      "\n",
      "[1886 rows x 4 columns]\n"
     ]
    }
   ],
   "source": [
    "mapping = {'La Repubblica': '0', 'Il Fatto Quotidiano': '0', 'HuffPost': '1', 'Open': '1', 'Il Post': '1'}\n",
    "\n",
    "# Replace the values in the 'category' column using the mapping\n",
    "df_predictions['News outlet2'] = df_predictions['News outlet'].replace(mapping)\n",
    "\n",
    "# Print the updated DataFrame\n",
    "print(df_predictions)"
   ]
  },
  {
   "cell_type": "code",
   "execution_count": 39,
   "id": "a249bfe7",
   "metadata": {},
   "outputs": [
    {
     "name": "stdout",
     "output_type": "stream",
     "text": [
      "predictions      0   5\n",
      "News outlet2          \n",
      "0              352   2\n",
      "1             1494  38\n"
     ]
    }
   ],
   "source": [
    "observed = pd.crosstab(df_predictions['News outlet2'], df_predictions['predictions'])\n",
    "\n",
    "print(observed)"
   ]
  },
  {
   "cell_type": "code",
   "execution_count": 40,
   "id": "7e3f335f",
   "metadata": {},
   "outputs": [
    {
     "name": "stdout",
     "output_type": "stream",
     "text": [
      "                          Value\n",
      "---------------------  --------\n",
      "Chi-square statistic:  1642.05\n",
      "p-value:                  0\n",
      "Degrees of freedom:       1\n",
      "Expected frequencies:\n",
      "73.20254506892896       280.797\n",
      "316.79745493107106     1215.2\n"
     ]
    }
   ],
   "source": [
    "observed = np.array([[352, 2], [38, 1494]])\n",
    "\n",
    "chi2, p, dof, expected = chi2_contingency(observed)\n",
    "\n",
    "table = [\n",
    "    [\"Chi-square statistic:\", chi2],\n",
    "    [\"p-value:\", str(p)],\n",
    "    [\"Degrees of freedom:\", dof],\n",
    "    [\"Expected frequencies:\"]\n",
    "]\n",
    "table.extend(expected.tolist())\n",
    "\n",
    "print(tabulate(table, headers=[\"\", \"Value\"]))"
   ]
  },
  {
   "cell_type": "code",
   "execution_count": 41,
   "id": "f800e2be",
   "metadata": {},
   "outputs": [
    {
     "data": {
      "text/plain": [
       "<bound method Figure.show of <Figure size 640x480 with 1 Axes>>"
      ]
     },
     "execution_count": 41,
     "metadata": {},
     "output_type": "execute_result"
    },
    {
     "data": {
      "image/png": "[encoded data removed]",
      "text/plain": [
       "<Figure size 640x480 with 1 Axes>"
      ]
     },
     "metadata": {},
     "output_type": "display_data"
    }
   ],
   "source": [
    "new_category_labels = ['Print and digital news outlets', 'solely digital news outlets']\n",
    "\n",
    "df_predictions['predictions'] = df_predictions['predictions'].replace({'solely digitsl news outlets': new_category_labels[1],\n",
    "                                                                    'Print and digital news outlets': new_category_labels[0]})\n",
    "\n",
    "plot3 = sns.countplot(x='News outlet2', hue=predictions, data=df_predictions,  dodge=2)  \n",
    "plot3.set_xticklabels(new_category_labels)\n",
    "plot3.set_title('Amount of issue-focused frames in the media coverage ofthe 2022 italian general elections per type of news outlet', size=11, fontweight='bold', color='black')\n",
    "plot3.set(xlabel='Type of frame',\n",
    "       ylabel='Amount of frames in the media')\n",
    "plot3.legend(title='Type of frame', labels=['Issue-focused frame', 'Other frame'], bbox_to_anchor=(1, 1))\n",
    "legend_font = {'family': 'Arial', 'size': 12, 'weight': 'bold'}\n",
    "\n",
    "def with_hue(ax, feature, number_of_categories, hue_categories):\n",
    "    a = [p.get_height() for p in ax.patches]\n",
    "    patch = [p for p in ax.patches]\n",
    "    for i in range(number_of_categories):\n",
    "        for j in range(hue_categories):\n",
    "            count = a[(j*number_of_categories + i)]\n",
    "            news_outlet = feature.unique()[i]\n",
    "            total = feature[feature == news_outlet].count()\n",
    "            percentage = '{:.1f}%'.format(count/total*100)\n",
    "            x = patch[(j*number_of_categories + i)].get_x() + patch[(j*number_of_categories + i)].get_width() / 2\n",
    "            y = patch[(j*number_of_categories + i)].get_height()\n",
    "            ax.annotate(percentage, (x, y), ha='center', va='bottom', color='black', size=10)\n",
    "number_of_categories = len(df_predictions[\"News outlet2\"].unique())\n",
    "hue_categories = len(df_predictions[\"predictions\"].unique())\n",
    "with_hue(plot3, df_predictions[\"News outlet2\"], number_of_categories, hue_categories)\n",
    "sns.despine()\n",
    "plt.savefig('Figure3.png')\n",
    "plot3.figure.show"
   ]
  },
  {
   "cell_type": "code",
   "execution_count": null,
   "id": "874df787",
   "metadata": {},
   "outputs": [],
   "source": []
  }
 ],
 "metadata": {
  "kernelspec": {
   "display_name": "Python 3 (ipykernel)",
   "language": "python",
   "name": "python3"
  },
  "language_info": {
   "codemirror_mode": {
    "name": "ipython",
    "version": 3
   },
   "file_extension": ".py",
   "mimetype": "text/x-python",
   "name": "python",
   "nbconvert_exporter": "python",
   "pygments_lexer": "ipython3",
   "version": "3.11.1"
  }
 },
 "nbformat": 4,
 "nbformat_minor": 5
}
