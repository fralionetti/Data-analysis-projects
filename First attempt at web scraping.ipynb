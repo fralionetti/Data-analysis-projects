{
 "cells": [
  {
   "cell_type": "code",
   "execution_count": 10,
   "id": "2e6e3c6b",
   "metadata": {},
   "outputs": [],
   "source": [
    "#On 21/04/2023 we had our first lecture on web scraping and we tried our first attempt at it. I focused on the amazon webpage of a prodcut and I tried to scrape the star ratings of that product.\n",
    "import requests\n",
    "import pandas as pd\n",
    "\n",
    "from lxml.html import fromstring\n",
    "url = \"https://www.amazon.co.uk/Trespass-Albus-Casual-Backpack-Women/dp/B01D86T0LC/ref=sr_1_5?crid=PKQDFK5OXDBZ&keywords=backpack&qid=1682079315&sprefix=backpack%2Caps%2C218&sr=8-5&th=1\"\n",
    "\n",
    "r = requests.get(url)\n",
    "tree = fromstring(r.text)"
   ]
  },
  {
   "cell_type": "code",
   "execution_count": 11,
   "id": "eba0838b",
   "metadata": {},
   "outputs": [
    {
     "name": "stdout",
     "output_type": "stream",
     "text": [
      "{'data-hook': 'review-star-rating', 'class': 'a-icon a-icon-star a-star-4 review-rating'}\n",
      "{'data-hook': 'review-star-rating', 'class': 'a-icon a-icon-star a-star-5 review-rating'}\n",
      "{'data-hook': 'review-star-rating', 'class': 'a-icon a-icon-star a-star-5 review-rating'}\n",
      "{'data-hook': 'review-star-rating', 'class': 'a-icon a-icon-star a-star-5 review-rating'}\n",
      "{'data-hook': 'review-star-rating', 'class': 'a-icon a-icon-star a-star-5 review-rating'}\n",
      "{'data-hook': 'review-star-rating', 'class': 'a-icon a-icon-star a-star-5 review-rating'}\n",
      "{'data-hook': 'review-star-rating', 'class': 'a-icon a-icon-star a-star-5 review-rating'}\n",
      "{'data-hook': 'review-star-rating', 'class': 'a-icon a-icon-star a-star-5 review-rating'}\n"
     ]
    }
   ],
   "source": [
    "#Trying to get only the star ratings of the reviews\n",
    "for e in tree.xpath('//div[@class=\"a-row\"]/a/i'):\n",
    "    print(e.attrib)"
   ]
  },
  {
   "cell_type": "code",
   "execution_count": null,
   "id": "ac2dd1d0",
   "metadata": {},
   "outputs": [],
   "source": []
  }
 ],
 "metadata": {
  "kernelspec": {
   "display_name": "Python 3 (ipykernel)",
   "language": "python",
   "name": "python3"
  },
  "language_info": {
   "codemirror_mode": {
    "name": "ipython",
    "version": 3
   },
   "file_extension": ".py",
   "mimetype": "text/x-python",
   "name": "python",
   "nbconvert_exporter": "python",
   "pygments_lexer": "ipython3",
   "version": "3.11.1"
  }
 },
 "nbformat": 4,
 "nbformat_minor": 5
}
