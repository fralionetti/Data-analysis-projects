{
 "cells": [
  {
   "cell_type": "markdown",
   "id": "a8228ff7",
   "metadata": {},
   "source": [
    "# Article on Asylum Seekers in the Netherlands"
   ]
  },
  {
   "cell_type": "markdown",
   "id": "ab1d3ab3",
   "metadata": {},
   "source": [
    "For an article at De Volkskrant, we looked at the the current numbers of asylum seekers hosted by different municipalities in the Netherlands and the future numbers of migrants that they will have to host acocrdig to the directive of the government. The analysis was based on anexcel document containing two sheets (one with the current number of asylum seekers and one with the amounts that will be implemented in the future)"
   ]
  },
  {
   "cell_type": "markdown",
   "id": "abf8445b",
   "metadata": {},
   "source": [
    "Importing and printing the first sheet of the excel document (containg the current estimates)"
   ]
  },
  {
   "cell_type": "code",
   "execution_count": 40,
   "id": "07a66036",
   "metadata": {},
   "outputs": [
    {
     "name": "stdout",
     "output_type": "stream",
     "text": [
      "        Gemeente  Bezetting\n",
      "0    Aa en Hunze         66\n",
      "1         Almelo          8\n",
      "2         Almelo        233\n",
      "3         Almelo        164\n",
      "4         Almere        133\n",
      "..           ...        ...\n",
      "324       Zwolle          4\n",
      "325       Zwolle         11\n",
      "326       Zwolle         22\n",
      "327       Zwolle          7\n",
      "328          NaN      64146\n",
      "\n",
      "[329 rows x 2 columns]\n"
     ]
    }
   ],
   "source": [
    "import pandas as pd\n",
    "\n",
    "#specifying the path to your Excel file\n",
    "excel_file_path = \"C:/Users/lionet000/Downloads/Opdracht en huidige opvang per gemeente.xlsx\"\n",
    "\n",
    "\n",
    "#specifying the name of the sheet that I want to use. In this case, it is the data sheet with all of the raw variables\n",
    "sheet_name= \"Blad2\"\n",
    "\n",
    "#reading the Excel file into a pandas DataFrame\n",
    "asylum_seekers_now = pd.read_excel(excel_file_path, sheet_name=sheet_name)\n",
    "\n",
    "#Visualizing the dataset\n",
    "print(asylum_seekers_now)"
   ]
  },
  {
   "cell_type": "markdown",
   "id": "43628fdf",
   "metadata": {},
   "source": [
    "As there are multiple values for the same muicipality, I sum up the values when the name of the same municipality is repeated multiple times"
   ]
  },
  {
   "cell_type": "code",
   "execution_count": 41,
   "id": "87731d2a",
   "metadata": {},
   "outputs": [
    {
     "name": "stdout",
     "output_type": "stream",
     "text": [
      "            Gemeente  Bezetting\n",
      "0        Aa en Hunze         66\n",
      "1             Almelo        405\n",
      "2             Almere       1438\n",
      "3         Amersfoort        742\n",
      "4         Amstelveen         60\n",
      "..               ...        ...\n",
      "164          Zundert          0\n",
      "165          Zutphen        712\n",
      "166           Zwolle        376\n",
      "167     s-Gravenhage        890\n",
      "168  s-Hertogenbosch        407\n",
      "\n",
      "[169 rows x 2 columns]\n"
     ]
    }
   ],
   "source": [
    "asylum_seekers_now = asylum_seekers_now.groupby('Gemeente')['Bezetting'].sum().reset_index()\n",
    "\n",
    "print(asylum_seekers_now)"
   ]
  },
  {
   "cell_type": "markdown",
   "id": "41c00916",
   "metadata": {},
   "source": [
    "I import and print the second sheet of the excel document (containing the future estimates)"
   ]
  },
  {
   "cell_type": "code",
   "execution_count": 42,
   "id": "41b4b77f",
   "metadata": {},
   "outputs": [
    {
     "name": "stdout",
     "output_type": "stream",
     "text": [
      "             Gemeente  Aantal opvangplaatsen  \\\n",
      "0       ‘s-Gravenhage                   2513   \n",
      "1    ‘s-Hertogenbosch                    879   \n",
      "2         Aa en Hunze                    156   \n",
      "3            Aalsmeer                    211   \n",
      "4              Aalten                    157   \n",
      "..                ...                    ...   \n",
      "337           Zundert                    138   \n",
      "338           Zutphen                    246   \n",
      "339   Zwartewaterland                    139   \n",
      "340       Zwijndrecht                    230   \n",
      "341            Zwolle                    717   \n",
      "\n",
      "     Waarvan geschikt ten behoeve van de opvang van amv’s  \n",
      "0                                                  213     \n",
      "1                                                   75     \n",
      "2                                                   13     \n",
      "3                                                   18     \n",
      "4                                                   13     \n",
      "..                                                 ...     \n",
      "337                                                 12     \n",
      "338                                                 21     \n",
      "339                                                 12     \n",
      "340                                                 19     \n",
      "341                                                 61     \n",
      "\n",
      "[342 rows x 3 columns]\n"
     ]
    }
   ],
   "source": [
    "#specifying the path to your Excel file\n",
    "excel_file_path = \"C:/Users/lionet000/Downloads/Opdracht en huidige opvang per gemeente.xlsx\"\n",
    "\n",
    "\n",
    "#specifying the name of the sheet that I want to use. In this case, it is the data sheet with all of the raw variables\n",
    "sheet_name2= \"Blad1\"\n",
    "\n",
    "#reading the Excel file into a pandas DataFrame\n",
    "asylum_seekers_future = pd.read_excel(excel_file_path, sheet_name=sheet_name2)\n",
    "\n",
    "#Visualizing the dataset\n",
    "print(asylum_seekers_future)"
   ]
  },
  {
   "cell_type": "markdown",
   "id": "7d361991",
   "metadata": {},
   "source": [
    "I only keep the colums that I need"
   ]
  },
  {
   "cell_type": "code",
   "execution_count": 43,
   "id": "d934d405",
   "metadata": {},
   "outputs": [
    {
     "name": "stdout",
     "output_type": "stream",
     "text": [
      "           Gemeente  Aantal opvangplaatsen\n",
      "0     ‘s-Gravenhage                   2513\n",
      "1  ‘s-Hertogenbosch                    879\n",
      "2       Aa en Hunze                    156\n",
      "3          Aalsmeer                    211\n",
      "4            Aalten                    157\n"
     ]
    }
   ],
   "source": [
    "# Create a new DataFrame with only the specified columns\n",
    "asylum_seekers_future = asylum_seekers_future[['Gemeente', 'Aantal opvangplaatsen']]\n",
    "\n",
    "# Now, 'df_subset' contains only the specified columns\n",
    "print(asylum_seekers_future.head())"
   ]
  },
  {
   "cell_type": "markdown",
   "id": "ee499093",
   "metadata": {},
   "source": [
    "Finally, I merge the two datasets and I make sure that all of the names of the muicipalities are there. Indeed, one of the 2 sheets containes less names of muicipality, so I mmke sure that when that is the case the missing values in the column are replaced by \"0\". Lastly, I saved the new dataset"
   ]
  },
  {
   "cell_type": "code",
   "execution_count": 44,
   "id": "466d9354",
   "metadata": {},
   "outputs": [
    {
     "name": "stdout",
     "output_type": "stream",
     "text": [
      "            Gemeente  Bezetting  Aantal opvangplaatsen\n",
      "0        Aa en Hunze       66.0                  156.0\n",
      "1             Almelo      405.0                  323.0\n",
      "2             Almere     1438.0                 1233.0\n",
      "3         Amersfoort      742.0                  961.0\n",
      "4         Amstelveen       60.0                  561.0\n",
      "..               ...        ...                    ...\n",
      "345        Zandvoort        0.0                   94.0\n",
      "346      Zoeterwoude        0.0                   64.0\n",
      "347         Zuidplas        0.0                  296.0\n",
      "348  Zwartewaterland        0.0                  139.0\n",
      "349      Zwijndrecht        0.0                  230.0\n",
      "\n",
      "[350 rows x 3 columns]\n"
     ]
    }
   ],
   "source": [
    "asylum_seekers_final = pd.merge(asylum_seekers_now, asylum_seekers_future, on='Gemeente', how='outer').fillna(0)\n",
    "\n",
    "# Displaying the result\n",
    "print(asylum_seekers_final)\n",
    "\n",
    "asylum_seekers_final.to_csv('asylum_seekers_final.csv', index=False)"
   ]
  },
  {
   "cell_type": "code",
   "execution_count": null,
   "id": "1638277b",
   "metadata": {},
   "outputs": [],
   "source": []
  }
 ],
 "metadata": {
  "kernelspec": {
   "display_name": "Python 3 (ipykernel)",
   "language": "python",
   "name": "python3"
  },
  "language_info": {
   "codemirror_mode": {
    "name": "ipython",
    "version": 3
   },
   "file_extension": ".py",
   "mimetype": "text/x-python",
   "name": "python",
   "nbconvert_exporter": "python",
   "pygments_lexer": "ipython3",
   "version": "3.11.4"
  }
 },
 "nbformat": 4,
 "nbformat_minor": 5
}
